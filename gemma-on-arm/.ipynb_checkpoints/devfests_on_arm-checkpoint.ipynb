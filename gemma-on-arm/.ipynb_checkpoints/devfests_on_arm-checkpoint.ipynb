{
 "cells": [
  {
   "cell_type": "code",
   "execution_count": 1,
   "id": "ac8fd236-e8e0-4b7a-b164-7259c4478f93",
   "metadata": {
    "tags": []
   },
   "outputs": [
    {
     "name": "stdout",
     "output_type": "stream",
     "text": [
      "\u001b[31mERROR: pip's dependency resolver does not currently take into account all the packages that are installed. This behaviour is the source of the following dependency conflicts.\n",
      "llama-index-llms-langchain 0.4.2 requires llama-index-core<0.12.0,>=0.11.0, but you have llama-index-core 0.12.0 which is incompatible.\u001b[0m\u001b[31m\n",
      "\u001b[0m"
     ]
    }
   ],
   "source": [
    "!pip install -qU \\\n",
    "    google-cloud-aiplatform \\\n",
    "    google-cloud-storage \\\n",
    "    llama-index \\\n",
    "    llama-index-embeddings-vertex \\\n",
    "    llama-index-llms-vertex \\\n",
    "    llama-index-vector_stores-vertexaivectorsearch \\\n",
    "    llama-index-llms-fireworks \\\n",
    "    llama-index-embeddings-huggingface"
   ]
  },
  {
   "cell_type": "code",
   "execution_count": 6,
   "id": "b5724df7-e90d-414a-ab7f-388c0534d05d",
   "metadata": {
    "tags": []
   },
   "outputs": [
    {
     "data": {
      "text/plain": [
       "{'status': 'ok', 'restart': True}"
      ]
     },
     "execution_count": 6,
     "metadata": {},
     "output_type": "execute_result"
    }
   ],
   "source": [
    "import IPython\n",
    "\n",
    "app = IPython.Application.instance()\n",
    "app.kernel.do_shutdown(True)"
   ]
  },
  {
   "cell_type": "code",
   "execution_count": 21,
   "id": "bada1e80-0422-4d1b-ab43-b7bec455a5ae",
   "metadata": {
    "tags": []
   },
   "outputs": [],
   "source": [
    "# Imports\n",
    "import os\n",
    "import logging\n",
    "import re \n",
    "\n",
    "from google.cloud import aiplatform, storage\n",
    "from llama_index.core import (\n",
    "    Document,\n",
    "    PromptTemplate,\n",
    "    Settings,\n",
    "    SimpleDirectoryReader,\n",
    "    StorageContext,\n",
    "    SummaryIndex,\n",
    "    VectorStoreIndex,\n",
    ")\n",
    "from llama_index.core.agent import ReActAgent\n",
    "from llama_index.core.base.base_query_engine import BaseQueryEngine\n",
    "from llama_index.core.node_parser import SentenceSplitter\n",
    "from llama_index.core.objects import ObjectIndex\n",
    "from llama_index.core.prompts import LangchainPromptTemplate\n",
    "from llama_index.core.prompts.base import BasePromptTemplate\n",
    "from llama_index.core.tools import QueryEngineTool, ToolMetadata\n",
    "from llama_index.embeddings.vertex import VertexTextEmbedding\n",
    "from llama_index.llms.vertex import Vertex\n",
    "from llama_index.vector_stores.vertexaivectorsearch import VertexAIVectorStore"
   ]
  },
  {
   "cell_type": "code",
   "execution_count": 2,
   "id": "e5341ea7-027f-4a58-931e-e10bf30b669f",
   "metadata": {
    "tags": []
   },
   "outputs": [],
   "source": [
    "from llama_index.llms.vertex import Vertex"
   ]
  },
  {
   "cell_type": "code",
   "execution_count": 3,
   "id": "5b571d8a-af89-47f3-87c6-330b2607d0fd",
   "metadata": {
    "tags": []
   },
   "outputs": [],
   "source": [
    "PROJECT_ID = \"angelic-bee-193823\"  \n",
    "LOCATION = \"us-central1\"  \n",
    "\n",
    "import vertexai\n",
    "\n",
    "vertexai.init(project=PROJECT_ID, location=LOCATION)"
   ]
  },
  {
   "cell_type": "code",
   "execution_count": 4,
   "id": "16b1a14c-8d1d-409b-8342-f371150bfdff",
   "metadata": {
    "tags": []
   },
   "outputs": [],
   "source": [
    "from llama_index.embeddings.huggingface import HuggingFaceEmbedding\n",
    "\n",
    "embed_model = HuggingFaceEmbedding(model_name=\"BAAI/bge-small-en-v1.5\")"
   ]
  },
  {
   "cell_type": "markdown",
   "id": "742f0a94-95b6-487a-aafe-d6e457136890",
   "metadata": {},
   "source": [
    "## Access Gemma via Keras"
   ]
  },
  {
   "cell_type": "code",
   "execution_count": 2,
   "id": "7fa1a5db-38c0-479e-8812-8851fbdbe018",
   "metadata": {
    "tags": []
   },
   "outputs": [],
   "source": [
    "!pip install -q -U keras-nlp\n",
    "!pip install -q -U keras>3"
   ]
  },
  {
   "cell_type": "code",
   "execution_count": 3,
   "id": "f5fabcb4-8b96-4296-b1fd-57c35349997d",
   "metadata": {
    "tags": []
   },
   "outputs": [
    {
     "name": "stderr",
     "output_type": "stream",
     "text": [
      "2024-11-19 04:53:03.080681: I external/local_xla/xla/tsl/cuda/cudart_stub.cc:32] Could not find cuda drivers on your machine, GPU will not be used.\n",
      "2024-11-19 04:53:03.086289: I external/local_xla/xla/tsl/cuda/cudart_stub.cc:32] Could not find cuda drivers on your machine, GPU will not be used.\n",
      "2024-11-19 04:53:03.101317: E external/local_xla/xla/stream_executor/cuda/cuda_fft.cc:477] Unable to register cuFFT factory: Attempting to register factory for plugin cuFFT when one has already been registered\n",
      "WARNING: All log messages before absl::InitializeLog() is called are written to STDERR\n",
      "E0000 00:00:1731991983.128223    7082 cuda_dnn.cc:8310] Unable to register cuDNN factory: Attempting to register factory for plugin cuDNN when one has already been registered\n",
      "E0000 00:00:1731991983.135998    7082 cuda_blas.cc:1418] Unable to register cuBLAS factory: Attempting to register factory for plugin cuBLAS when one has already been registered\n",
      "2024-11-19 04:53:03.164432: I tensorflow/core/platform/cpu_feature_guard.cc:210] This TensorFlow binary is optimized to use available CPU instructions in performance-critical operations.\n",
      "To enable the following instructions: AVX2 FMA, in other operations, rebuild TensorFlow with the appropriate compiler flags.\n"
     ]
    }
   ],
   "source": [
    "import keras\n",
    "import keras_nlp\n",
    "import os"
   ]
  },
  {
   "cell_type": "code",
   "execution_count": 4,
   "id": "e4f36003-eeb6-43ca-8ccf-8ab1147ef39d",
   "metadata": {
    "tags": []
   },
   "outputs": [
    {
     "ename": "ValueError",
     "evalue": "403 Client Error.\n\nYou don't have permission to access resource at URL: https://www.kaggle.com/models/keras/gemma/keras/gemma_instruct_2b_en/2\nPlease make sure you are authenticated if you are trying to access a private resource or a resource requiring consent.",
     "output_type": "error",
     "traceback": [
      "\u001b[0;31m---------------------------------------------------------------------------\u001b[0m",
      "\u001b[0;31mHTTPError\u001b[0m                                 Traceback (most recent call last)",
      "File \u001b[0;32m/opt/conda/envs/pytorch/lib/python3.10/site-packages/kagglehub/exceptions.py:58\u001b[0m, in \u001b[0;36mkaggle_api_raise_for_status\u001b[0;34m(response, resource_handle)\u001b[0m\n\u001b[1;32m     57\u001b[0m \u001b[38;5;28;01mtry\u001b[39;00m:\n\u001b[0;32m---> 58\u001b[0m     \u001b[43mresponse\u001b[49m\u001b[38;5;241;43m.\u001b[39;49m\u001b[43mraise_for_status\u001b[49m\u001b[43m(\u001b[49m\u001b[43m)\u001b[49m\n\u001b[1;32m     59\u001b[0m \u001b[38;5;28;01mexcept\u001b[39;00m requests\u001b[38;5;241m.\u001b[39mHTTPError \u001b[38;5;28;01mas\u001b[39;00m e:\n",
      "File \u001b[0;32m/opt/conda/envs/pytorch/lib/python3.10/site-packages/requests/models.py:1024\u001b[0m, in \u001b[0;36mResponse.raise_for_status\u001b[0;34m(self)\u001b[0m\n\u001b[1;32m   1023\u001b[0m \u001b[38;5;28;01mif\u001b[39;00m http_error_msg:\n\u001b[0;32m-> 1024\u001b[0m     \u001b[38;5;28;01mraise\u001b[39;00m HTTPError(http_error_msg, response\u001b[38;5;241m=\u001b[39m\u001b[38;5;28mself\u001b[39m)\n",
      "\u001b[0;31mHTTPError\u001b[0m: 403 Client Error: Forbidden for url: https://www.kaggle.com/api/v1/models/keras/gemma/keras/gemma_instruct_2b_en/2/download/config.json",
      "\nThe above exception was the direct cause of the following exception:\n",
      "\u001b[0;31mKaggleApiHTTPError\u001b[0m                        Traceback (most recent call last)",
      "File \u001b[0;32m/opt/conda/envs/pytorch/lib/python3.10/site-packages/keras_hub/src/utils/preset_utils.py:158\u001b[0m, in \u001b[0;36mget_file\u001b[0;34m(preset, path)\u001b[0m\n\u001b[1;32m    157\u001b[0m \u001b[38;5;28;01mtry\u001b[39;00m:\n\u001b[0;32m--> 158\u001b[0m     \u001b[38;5;28;01mreturn\u001b[39;00m \u001b[43mkagglehub\u001b[49m\u001b[38;5;241;43m.\u001b[39;49m\u001b[43mmodel_download\u001b[49m\u001b[43m(\u001b[49m\u001b[43mkaggle_handle\u001b[49m\u001b[43m,\u001b[49m\u001b[43m \u001b[49m\u001b[43mpath\u001b[49m\u001b[43m)\u001b[49m\n\u001b[1;32m    159\u001b[0m \u001b[38;5;28;01mexcept\u001b[39;00m KaggleApiHTTPError \u001b[38;5;28;01mas\u001b[39;00m e:\n",
      "File \u001b[0;32m/opt/conda/envs/pytorch/lib/python3.10/site-packages/kagglehub/models.py:30\u001b[0m, in \u001b[0;36mmodel_download\u001b[0;34m(handle, path, force_download)\u001b[0m\n\u001b[1;32m     29\u001b[0m logger\u001b[38;5;241m.\u001b[39minfo(\u001b[38;5;124mf\u001b[39m\u001b[38;5;124m\"\u001b[39m\u001b[38;5;124mDownloading Model: \u001b[39m\u001b[38;5;132;01m{\u001b[39;00mh\u001b[38;5;241m.\u001b[39mto_url()\u001b[38;5;132;01m}\u001b[39;00m\u001b[38;5;124m ...\u001b[39m\u001b[38;5;124m\"\u001b[39m, extra\u001b[38;5;241m=\u001b[39m{\u001b[38;5;241m*\u001b[39m\u001b[38;5;241m*\u001b[39mEXTRA_CONSOLE_BLOCK})\n\u001b[0;32m---> 30\u001b[0m \u001b[38;5;28;01mreturn\u001b[39;00m \u001b[43mregistry\u001b[49m\u001b[38;5;241;43m.\u001b[39;49m\u001b[43mmodel_resolver\u001b[49m\u001b[43m(\u001b[49m\u001b[43mh\u001b[49m\u001b[43m,\u001b[49m\u001b[43m \u001b[49m\u001b[43mpath\u001b[49m\u001b[43m,\u001b[49m\u001b[43m \u001b[49m\u001b[43mforce_download\u001b[49m\u001b[38;5;241;43m=\u001b[39;49m\u001b[43mforce_download\u001b[49m\u001b[43m)\u001b[49m\n",
      "File \u001b[0;32m/opt/conda/envs/pytorch/lib/python3.10/site-packages/kagglehub/registry.py:23\u001b[0m, in \u001b[0;36mMultiImplRegistry.__call__\u001b[0;34m(self, *args, **kwargs)\u001b[0m\n\u001b[1;32m     22\u001b[0m \u001b[38;5;28;01mif\u001b[39;00m impl\u001b[38;5;241m.\u001b[39mis_supported(\u001b[38;5;241m*\u001b[39margs, \u001b[38;5;241m*\u001b[39m\u001b[38;5;241m*\u001b[39mkwargs):\n\u001b[0;32m---> 23\u001b[0m     \u001b[38;5;28;01mreturn\u001b[39;00m \u001b[43mimpl\u001b[49m\u001b[43m(\u001b[49m\u001b[38;5;241;43m*\u001b[39;49m\u001b[43margs\u001b[49m\u001b[43m,\u001b[49m\u001b[43m \u001b[49m\u001b[38;5;241;43m*\u001b[39;49m\u001b[38;5;241;43m*\u001b[39;49m\u001b[43mkwargs\u001b[49m\u001b[43m)\u001b[49m\n\u001b[1;32m     24\u001b[0m \u001b[38;5;28;01melse\u001b[39;00m:\n",
      "File \u001b[0;32m/opt/conda/envs/pytorch/lib/python3.10/site-packages/kagglehub/http_resolver.py:163\u001b[0m, in \u001b[0;36mModelHttpResolver.__call__\u001b[0;34m(self, h, path, force_download)\u001b[0m\n\u001b[1;32m    162\u001b[0m     os\u001b[38;5;241m.\u001b[39mmakedirs(os\u001b[38;5;241m.\u001b[39mpath\u001b[38;5;241m.\u001b[39mdirname(out_path), exist_ok\u001b[38;5;241m=\u001b[39m\u001b[38;5;28;01mTrue\u001b[39;00m)\n\u001b[0;32m--> 163\u001b[0m     \u001b[43mapi_client\u001b[49m\u001b[38;5;241;43m.\u001b[39;49m\u001b[43mdownload_file\u001b[49m\u001b[43m(\u001b[49m\u001b[43murl_path\u001b[49m\u001b[43m \u001b[49m\u001b[38;5;241;43m+\u001b[39;49m\u001b[43m \u001b[49m\u001b[38;5;124;43m\"\u001b[39;49m\u001b[38;5;124;43m/\u001b[39;49m\u001b[38;5;124;43m\"\u001b[39;49m\u001b[43m \u001b[49m\u001b[38;5;241;43m+\u001b[39;49m\u001b[43m \u001b[49m\u001b[43mpath\u001b[49m\u001b[43m,\u001b[49m\u001b[43m \u001b[49m\u001b[43mout_path\u001b[49m\u001b[43m,\u001b[49m\u001b[43m \u001b[49m\u001b[43mh\u001b[49m\u001b[43m)\u001b[49m\n\u001b[1;32m    164\u001b[0m \u001b[38;5;28;01melse\u001b[39;00m:\n\u001b[1;32m    165\u001b[0m     \u001b[38;5;66;03m# List the files and decide how to download them:\u001b[39;00m\n\u001b[1;32m    166\u001b[0m     \u001b[38;5;66;03m# - <= 25 files: Download files in parallel\u001b[39;00m\n\u001b[1;32m    167\u001b[0m     \u001b[38;5;66;03m# > 25 files: Download the archive and uncompress\u001b[39;00m\n",
      "File \u001b[0;32m/opt/conda/envs/pytorch/lib/python3.10/site-packages/kagglehub/clients.py:157\u001b[0m, in \u001b[0;36mKaggleApiV1Client.download_file\u001b[0;34m(self, path, out_file, resource_handle, cached_path)\u001b[0m\n\u001b[1;32m    150\u001b[0m \u001b[38;5;28;01mwith\u001b[39;00m requests\u001b[38;5;241m.\u001b[39mget(\n\u001b[1;32m    151\u001b[0m     url,\n\u001b[1;32m    152\u001b[0m     headers\u001b[38;5;241m=\u001b[39m{\u001b[38;5;124m\"\u001b[39m\u001b[38;5;124mUser-Agent\u001b[39m\u001b[38;5;124m\"\u001b[39m: get_user_agent()},\n\u001b[0;32m   (...)\u001b[0m\n\u001b[1;32m    155\u001b[0m     timeout\u001b[38;5;241m=\u001b[39m(DEFAULT_CONNECT_TIMEOUT, DEFAULT_READ_TIMEOUT),\n\u001b[1;32m    156\u001b[0m ) \u001b[38;5;28;01mas\u001b[39;00m response:\n\u001b[0;32m--> 157\u001b[0m     \u001b[43mkaggle_api_raise_for_status\u001b[49m\u001b[43m(\u001b[49m\u001b[43mresponse\u001b[49m\u001b[43m,\u001b[49m\u001b[43m \u001b[49m\u001b[43mresource_handle\u001b[49m\u001b[43m)\u001b[49m\n\u001b[1;32m    158\u001b[0m     total_size \u001b[38;5;241m=\u001b[39m \u001b[38;5;28mint\u001b[39m(response\u001b[38;5;241m.\u001b[39mheaders[\u001b[38;5;124m\"\u001b[39m\u001b[38;5;124mContent-Length\u001b[39m\u001b[38;5;124m\"\u001b[39m])\n",
      "File \u001b[0;32m/opt/conda/envs/pytorch/lib/python3.10/site-packages/kagglehub/exceptions.py:89\u001b[0m, in \u001b[0;36mkaggle_api_raise_for_status\u001b[0;34m(response, resource_handle)\u001b[0m\n\u001b[1;32m     88\u001b[0m \u001b[38;5;66;03m# Default handling\u001b[39;00m\n\u001b[0;32m---> 89\u001b[0m \u001b[38;5;28;01mraise\u001b[39;00m KaggleApiHTTPError(message, response\u001b[38;5;241m=\u001b[39mresponse) \u001b[38;5;28;01mfrom\u001b[39;00m \u001b[38;5;21;01me\u001b[39;00m\n",
      "\u001b[0;31mKaggleApiHTTPError\u001b[0m: 403 Client Error.\n\nYou don't have permission to access resource at URL: https://www.kaggle.com/models/keras/gemma/keras/gemma_instruct_2b_en/2\nPlease make sure you are authenticated if you are trying to access a private resource or a resource requiring consent.",
      "\nDuring handling of the above exception, another exception occurred:\n",
      "\u001b[0;31mValueError\u001b[0m                                Traceback (most recent call last)",
      "Cell \u001b[0;32mIn[4], line 4\u001b[0m\n\u001b[1;32m      1\u001b[0m os\u001b[38;5;241m.\u001b[39menviron[\u001b[38;5;124m\"\u001b[39m\u001b[38;5;124mKERAS_BACKEND\u001b[39m\u001b[38;5;124m\"\u001b[39m] \u001b[38;5;241m=\u001b[39m \u001b[38;5;124m\"\u001b[39m\u001b[38;5;124mjax\u001b[39m\u001b[38;5;124m\"\u001b[39m\n\u001b[1;32m      2\u001b[0m os\u001b[38;5;241m.\u001b[39menviron[\u001b[38;5;124m\"\u001b[39m\u001b[38;5;124mXLA_PYTHON_CLIENT_MEM_FRACTION\u001b[39m\u001b[38;5;124m\"\u001b[39m] \u001b[38;5;241m=\u001b[39m \u001b[38;5;124m\"\u001b[39m\u001b[38;5;124m1.00\u001b[39m\u001b[38;5;124m\"\u001b[39m\n\u001b[0;32m----> 4\u001b[0m gemma_lm \u001b[38;5;241m=\u001b[39m \u001b[43mkeras_nlp\u001b[49m\u001b[38;5;241;43m.\u001b[39;49m\u001b[43mmodels\u001b[49m\u001b[38;5;241;43m.\u001b[39;49m\u001b[43mGemmaCausalLM\u001b[49m\u001b[38;5;241;43m.\u001b[39;49m\u001b[43mfrom_preset\u001b[49m\u001b[43m(\u001b[49m\u001b[38;5;124;43m\"\u001b[39;49m\u001b[38;5;124;43mgemma_instruct_2b_en\u001b[39;49m\u001b[38;5;124;43m\"\u001b[39;49m\u001b[43m)\u001b[49m\n",
      "File \u001b[0;32m/opt/conda/envs/pytorch/lib/python3.10/site-packages/keras_hub/src/models/task.py:184\u001b[0m, in \u001b[0;36mTask.from_preset\u001b[0;34m(cls, preset, load_weights, **kwargs)\u001b[0m\n\u001b[1;32m    177\u001b[0m \u001b[38;5;28;01mif\u001b[39;00m \u001b[38;5;28mcls\u001b[39m \u001b[38;5;241m==\u001b[39m Task:\n\u001b[1;32m    178\u001b[0m     \u001b[38;5;28;01mraise\u001b[39;00m \u001b[38;5;167;01mValueError\u001b[39;00m(\n\u001b[1;32m    179\u001b[0m         \u001b[38;5;124m\"\u001b[39m\u001b[38;5;124mDo not call `Task.from_preset()` directly. Instead call a \u001b[39m\u001b[38;5;124m\"\u001b[39m\n\u001b[1;32m    180\u001b[0m         \u001b[38;5;124m\"\u001b[39m\u001b[38;5;124mparticular task class, e.g. \u001b[39m\u001b[38;5;124m\"\u001b[39m\n\u001b[1;32m    181\u001b[0m         \u001b[38;5;124m\"\u001b[39m\u001b[38;5;124m`keras_hub.models.TextClassifier.from_preset()`.\u001b[39m\u001b[38;5;124m\"\u001b[39m\n\u001b[1;32m    182\u001b[0m     )\n\u001b[0;32m--> 184\u001b[0m loader \u001b[38;5;241m=\u001b[39m \u001b[43mget_preset_loader\u001b[49m\u001b[43m(\u001b[49m\u001b[43mpreset\u001b[49m\u001b[43m)\u001b[49m\n\u001b[1;32m    185\u001b[0m backbone_cls \u001b[38;5;241m=\u001b[39m loader\u001b[38;5;241m.\u001b[39mcheck_backbone_class()\n\u001b[1;32m    186\u001b[0m \u001b[38;5;66;03m# Detect the correct subclass if we need to.\u001b[39;00m\n",
      "File \u001b[0;32m/opt/conda/envs/pytorch/lib/python3.10/site-packages/keras_hub/src/utils/preset_utils.py:509\u001b[0m, in \u001b[0;36mget_preset_loader\u001b[0;34m(preset)\u001b[0m\n\u001b[1;32m    508\u001b[0m \u001b[38;5;28;01mdef\u001b[39;00m \u001b[38;5;21mget_preset_loader\u001b[39m(preset):\n\u001b[0;32m--> 509\u001b[0m     \u001b[38;5;28;01mif\u001b[39;00m \u001b[38;5;129;01mnot\u001b[39;00m \u001b[43mcheck_file_exists\u001b[49m\u001b[43m(\u001b[49m\u001b[43mpreset\u001b[49m\u001b[43m,\u001b[49m\u001b[43m \u001b[49m\u001b[43mCONFIG_FILE\u001b[49m\u001b[43m)\u001b[49m:\n\u001b[1;32m    510\u001b[0m         \u001b[38;5;28;01mraise\u001b[39;00m \u001b[38;5;167;01mValueError\u001b[39;00m(\n\u001b[1;32m    511\u001b[0m             \u001b[38;5;124mf\u001b[39m\u001b[38;5;124m\"\u001b[39m\u001b[38;5;124mPreset \u001b[39m\u001b[38;5;132;01m{\u001b[39;00mpreset\u001b[38;5;132;01m}\u001b[39;00m\u001b[38;5;124m has no \u001b[39m\u001b[38;5;132;01m{\u001b[39;00mCONFIG_FILE\u001b[38;5;132;01m}\u001b[39;00m\u001b[38;5;124m. Make sure the URI or \u001b[39m\u001b[38;5;124m\"\u001b[39m\n\u001b[1;32m    512\u001b[0m             \u001b[38;5;124m\"\u001b[39m\u001b[38;5;124mdirectory you are trying to load is a valid KerasHub preset and \u001b[39m\u001b[38;5;124m\"\u001b[39m\n\u001b[1;32m    513\u001b[0m             \u001b[38;5;124m\"\u001b[39m\u001b[38;5;124mand that you have permissions to read/download from this location.\u001b[39m\u001b[38;5;124m\"\u001b[39m\n\u001b[1;32m    514\u001b[0m         )\n\u001b[1;32m    515\u001b[0m     \u001b[38;5;66;03m# We currently assume all formats we support have a `config.json`, this is\u001b[39;00m\n\u001b[1;32m    516\u001b[0m     \u001b[38;5;66;03m# true, for Keras, Transformers, and timm. We infer the on disk format by\u001b[39;00m\n\u001b[1;32m    517\u001b[0m     \u001b[38;5;66;03m# inspecting the `config.json` file.\u001b[39;00m\n",
      "File \u001b[0;32m/opt/conda/envs/pytorch/lib/python3.10/site-packages/keras_hub/src/utils/preset_utils.py:264\u001b[0m, in \u001b[0;36mcheck_file_exists\u001b[0;34m(preset, path)\u001b[0m\n\u001b[1;32m    262\u001b[0m \u001b[38;5;28;01mdef\u001b[39;00m \u001b[38;5;21mcheck_file_exists\u001b[39m(preset, path):\n\u001b[1;32m    263\u001b[0m     \u001b[38;5;28;01mtry\u001b[39;00m:\n\u001b[0;32m--> 264\u001b[0m         \u001b[43mget_file\u001b[49m\u001b[43m(\u001b[49m\u001b[43mpreset\u001b[49m\u001b[43m,\u001b[49m\u001b[43m \u001b[49m\u001b[43mpath\u001b[49m\u001b[43m)\u001b[49m\n\u001b[1;32m    265\u001b[0m     \u001b[38;5;28;01mexcept\u001b[39;00m \u001b[38;5;167;01mFileNotFoundError\u001b[39;00m:\n\u001b[1;32m    266\u001b[0m         \u001b[38;5;28;01mreturn\u001b[39;00m \u001b[38;5;28;01mFalse\u001b[39;00m\n",
      "File \u001b[0;32m/opt/conda/envs/pytorch/lib/python3.10/site-packages/keras_hub/src/utils/preset_utils.py:166\u001b[0m, in \u001b[0;36mget_file\u001b[0;34m(preset, path)\u001b[0m\n\u001b[1;32m    162\u001b[0m         \u001b[38;5;28;01mraise\u001b[39;00m \u001b[38;5;167;01mFileNotFoundError\u001b[39;00m(\n\u001b[1;32m    163\u001b[0m             \u001b[38;5;124mf\u001b[39m\u001b[38;5;124m\"\u001b[39m\u001b[38;5;124m`\u001b[39m\u001b[38;5;132;01m{\u001b[39;00mpath\u001b[38;5;132;01m}\u001b[39;00m\u001b[38;5;124m` doesn\u001b[39m\u001b[38;5;124m'\u001b[39m\u001b[38;5;124mt exist in preset directory `\u001b[39m\u001b[38;5;132;01m{\u001b[39;00mpreset\u001b[38;5;132;01m}\u001b[39;00m\u001b[38;5;124m`.\u001b[39m\u001b[38;5;124m\"\u001b[39m\n\u001b[1;32m    164\u001b[0m         )\n\u001b[1;32m    165\u001b[0m     \u001b[38;5;28;01melse\u001b[39;00m:\n\u001b[0;32m--> 166\u001b[0m         \u001b[38;5;28;01mraise\u001b[39;00m \u001b[38;5;167;01mValueError\u001b[39;00m(message)\n\u001b[1;32m    167\u001b[0m \u001b[38;5;28;01mexcept\u001b[39;00m \u001b[38;5;167;01mValueError\u001b[39;00m \u001b[38;5;28;01mas\u001b[39;00m e:\n\u001b[1;32m    168\u001b[0m     message \u001b[38;5;241m=\u001b[39m \u001b[38;5;28mstr\u001b[39m(e)\n",
      "\u001b[0;31mValueError\u001b[0m: 403 Client Error.\n\nYou don't have permission to access resource at URL: https://www.kaggle.com/models/keras/gemma/keras/gemma_instruct_2b_en/2\nPlease make sure you are authenticated if you are trying to access a private resource or a resource requiring consent."
     ]
    }
   ],
   "source": [
    "os.environ[\"KERAS_BACKEND\"] = \"jax\"\n",
    "os.environ[\"XLA_PYTHON_CLIENT_MEM_FRACTION\"] = \"1.00\"\n",
    "\n",
    "gemma_lm = keras_nlp.models.GemmaCausalLM.from_preset(\"gemma_instruct_2b_en\")"
   ]
  },
  {
   "cell_type": "code",
   "execution_count": null,
   "id": "dd806fec-b31f-4651-81ed-78e88821a9e2",
   "metadata": {},
   "outputs": [],
   "source": [
    "sample_query = \"What is a good backbone for the Kaggle competition with the title 'Feedback Prize - English Language Learning'?\"\n",
    "\n",
    "print(gemma_lm.generate(sample_query, max_length=512))"
   ]
  },
  {
   "cell_type": "code",
   "execution_count": 5,
   "id": "5005c39a-685f-4191-890b-7c325a8fcda9",
   "metadata": {
    "tags": []
   },
   "outputs": [
    {
     "ename": "NameError",
     "evalue": "name 'Vertex' is not defined",
     "output_type": "error",
     "traceback": [
      "\u001b[0;31m---------------------------------------------------------------------------\u001b[0m",
      "\u001b[0;31mNameError\u001b[0m                                 Traceback (most recent call last)",
      "Cell \u001b[0;32mIn[5], line 1\u001b[0m\n\u001b[0;32m----> 1\u001b[0m llm_1 \u001b[38;5;241m=\u001b[39m \u001b[43mVertex\u001b[49m(\u001b[38;5;124m\"\u001b[39m\u001b[38;5;124mgemini-pro\u001b[39m\u001b[38;5;124m\"\u001b[39m)\n\u001b[1;32m      2\u001b[0m llm_2 \u001b[38;5;241m=\u001b[39m Gemma(gemma_lm, \u001b[38;5;241m512\u001b[39m)\n\u001b[1;32m      4\u001b[0m Settings\u001b[38;5;241m.\u001b[39membed_model \u001b[38;5;241m=\u001b[39m embed_model\n",
      "\u001b[0;31mNameError\u001b[0m: name 'Vertex' is not defined"
     ]
    }
   ],
   "source": [
    "llm_1 = Vertex(\"gemini-pro\")\n",
    "llm_2 = Gemma(gemma_lm, 512)\n",
    "\n",
    "Settings.embed_model = embed_model\n",
    "Settings.llm = llm_2"
   ]
  },
  {
   "cell_type": "markdown",
   "id": "08bd76d6-5144-4796-88ed-bf19694e0bfe",
   "metadata": {},
   "source": [
    "## DevFest Lagos Scraper"
   ]
  },
  {
   "cell_type": "code",
   "execution_count": 6,
   "id": "bc854d13-cb3b-44e6-80f3-ff9fcbb72cdc",
   "metadata": {
    "tags": []
   },
   "outputs": [
    {
     "name": "stdout",
     "output_type": "stream",
     "text": [
      "Fetching DevFest schedule...\n"
     ]
    },
    {
     "data": {
      "application/json": {
       "day1": [
        {
         "day": "Day 1",
         "room": "outside",
         "session_type": "General",
         "speaker": "N/A",
         "time": "8:00 AM - 9:00 AM",
         "title": "Registration",
         "track": "General"
        },
        {
         "day": "Day 1",
         "room": "room 1",
         "session_type": "General",
         "speaker": "N/A",
         "time": "9:05 AM - 9:10 AM",
         "title": "Welcome to DevFest Lagos, Ground Rules and Safety",
         "track": "General"
        },
        {
         "day": "Day 1",
         "room": "room 1",
         "session_type": "General",
         "speaker": "N/A",
         "time": "9:15 AM - 9:45 AM",
         "title": "Keynote",
         "track": "General"
        },
        {
         "day": "Day 1",
         "room": "room 1",
         "session_type": "General",
         "speaker": "N/A",
         "time": "9:50 AM - 10:30 AM",
         "title": "TBD",
         "track": "General"
        },
        {
         "day": "Day 1",
         "room": "room 2",
         "session_type": "General",
         "speaker": "N/A",
         "time": "9:50 AM - 10:30 AM",
         "title": "Building Resilience Systems - Flexibility and Adaptability",
         "track": "General"
        },
        {
         "day": "Day 1",
         "room": "room 1",
         "session_type": "General",
         "speaker": "N/A",
         "time": "10:35 AM - 11:15 AM",
         "title": "TBD",
         "track": "General"
        },
        {
         "day": "Day 1",
         "room": "room 2",
         "session_type": "General",
         "speaker": "N/A",
         "time": "10:35 AM - 11:15 AM",
         "title": "Empowering Development at Every Scale with FlutterFlow",
         "track": "General"
        },
        {
         "day": "Day 1",
         "room": "outside",
         "session_type": "General",
         "speaker": "N/A",
         "time": "11:15 AM - 11:25 AM",
         "title": "Walk To Take Photograph",
         "track": "General"
        },
        {
         "day": "Day 1",
         "room": "outside",
         "session_type": "General",
         "speaker": "N/A",
         "time": "11:25 AM - 12:00 PM",
         "title": "Group Photograph",
         "track": "General"
        },
        {
         "day": "Day 1",
         "room": "outside",
         "session_type": "General",
         "speaker": "N/A",
         "time": "12:00 PM - 12:40 PM",
         "title": "Lunch",
         "track": "General"
        },
        {
         "day": "Day 1",
         "room": "outside",
         "session_type": "General",
         "speaker": "N/A",
         "time": "12:40 PM - 1:00 PM",
         "title": "Walk To Venue / Cleanup",
         "track": "General"
        },
        {
         "day": "Day 1",
         "room": "Main Hall",
         "session_type": "General",
         "speaker": "N/A",
         "time": "5:00 PM - 6:00 PM",
         "title": "Networking",
         "track": "General"
        },
        {
         "day": "Day 1",
         "room": "Breakout Room",
         "session_type": "Breakout",
         "speaker": "Yves Kalume",
         "time": "1:00 PM - 1:45 PM",
         "title": "Experiment Your Way To Success: A/B Testing for your Android Apps",
         "track": "Breakout"
        },
        {
         "day": "Day 1",
         "room": "Breakout Room",
         "session_type": "Breakout",
         "speaker": "Confidence Okoghenun",
         "time": "1:50 PM - 2:35 PM",
         "title": "Building Web Apps That Work Offline and Beyond",
         "track": "Breakout"
        },
        {
         "day": "Day 1",
         "room": "Breakout Room",
         "session_type": "Breakout",
         "speaker": "Olivier Leplus",
         "time": "2:40 PM - 3:25 PM",
         "title": "CSS Rises from the Ashes: (Re)Become Friends with Your Stylesheet",
         "track": "Breakout"
        },
        {
         "day": "Day 1",
         "room": "Breakout Room",
         "session_type": "Breakout",
         "speaker": "Gift Ojeabulu",
         "time": "3:30 PM - 4:15 PM",
         "title": "The Role of Developer Relations in the Success of AI/ML Products",
         "track": "Breakout"
        },
        {
         "day": "Day 1",
         "room": "Breakout Room",
         "session_type": "Breakout",
         "speaker": "Adeyanju Michael",
         "time": "4:20 PM - 5:05 PM",
         "title": "Building a Multi-Tenant SaaS with Microservices on Kubernetes",
         "track": "Breakout"
        },
        {
         "day": "Day 1",
         "room": "Breakout Room",
         "session_type": "Breakout",
         "speaker": "Nkorom Ezekiel Kingsley",
         "time": "5:05 PM - 5:50 PM",
         "title": "Cybersecurity Awareness For Small And Medium Enterprises",
         "track": "Breakout"
        }
       ],
       "day2": []
      },
      "text/plain": [
       "<IPython.core.display.JSON object>"
      ]
     },
     "metadata": {
      "application/json": {
       "expanded": false,
       "root": "root"
      }
     },
     "output_type": "display_data"
    },
    {
     "name": "stdout",
     "output_type": "stream",
     "text": [
      "\n",
      "Converting to Documents...\n",
      "Created 18 Document objects\n",
      "\n",
      "Schedule saved to devfest_schedule.json\n",
      "\n",
      "Example Document content:\n",
      "\n",
      "            Title: Registration\n",
      "            Speaker: N/A\n",
      "            Time: 8:00 AM - 9:00 AM\n",
      "            Track: General\n",
      "            Room: outside\n",
      "            Session Type: General\n",
      "            Day: Day 1\n",
      "            \n",
      "\n",
      "Example Document metadata:\n",
      "{'day': 'Day 1', 'track': 'General', 'session_type': 'General', 'speaker': 'N/A', 'time': '8:00 AM - 9:00 AM', 'room': 'outside'}\n"
     ]
    }
   ],
   "source": [
    "from typing import Dict, List\n",
    "from llama_index.core.tools import FunctionTool\n",
    "from llama_index.core.schema import Document\n",
    "import requests\n",
    "import json\n",
    "from bs4 import BeautifulSoup\n",
    "from dataclasses import dataclass\n",
    "from IPython.display import JSON, display\n",
    "\n",
    "@dataclass\n",
    "class DevFestSession:\n",
    "    \"\"\"Data class for storing session information\"\"\"\n",
    "    title: str\n",
    "    speaker: str\n",
    "    time: str\n",
    "    track: str\n",
    "    day: str\n",
    "    room: str\n",
    "    session_type: str\n",
    "\n",
    "def get_devfest_schedule() -> Dict[str, List[Dict]]:\n",
    "    \"\"\"\n",
    "    Scrape and return the DevFest Lagos schedule as JSON data.\n",
    "    Returns a dictionary with days as keys and lists of session information as values.\n",
    "    \"\"\"\n",
    "    # Initialize schedule structure\n",
    "    schedule = {\n",
    "        'day1': [],\n",
    "        'day2': []\n",
    "    }\n",
    "    \n",
    "    try:\n",
    "        # Set up session and get page content\n",
    "        session = requests.Session()\n",
    "        session.headers.update({\n",
    "            'User-Agent': 'Mozilla/5.0 (Windows NT 10.0; Win64; x64) AppleWebKit/537.36',\n",
    "            'Accept': 'text/html,application/xhtml+xml,application/xml;q=0.9,image/webp,*/*;q=0.8',\n",
    "        })\n",
    "        \n",
    "        # Get HTML content\n",
    "        response = session.get(\"https://devfestlagos.com/schedule\")\n",
    "        response.raise_for_status()\n",
    "        soup = BeautifulSoup(response.text, 'html.parser')\n",
    "        \n",
    "        # Find schedule container\n",
    "        schedule_container = soup.find('div', class_='schedule_scheduleItemsContainer__wkWNt')\n",
    "        \n",
    "        if schedule_container:\n",
    "            # Extract general sessions\n",
    "            general_events = schedule_container.find_all('div', class_='EventBlock_event__UsJua')\n",
    "            for event in general_events:\n",
    "                session_data = {\n",
    "                    'title': event.find('h3').text.strip(),\n",
    "                    'time': event.find('div', class_='EventBlock_time__RQGQz').text.strip() if event.find('div', class_='EventBlock_time__RQGQz') else \"Time not specified\",\n",
    "                    'room': event.find('div', class_='EventBlock_venue__wjpVu').find('span').text.strip() if event.find('div', class_='EventBlock_venue__wjpVu') and event.find('div', class_='EventBlock_venue__wjpVu').find('span') else \"Main Hall\",\n",
    "                    'speaker': \"N/A\",\n",
    "                    'track': \"General\",\n",
    "                    'session_type': \"General\",\n",
    "                    'day': \"Day 1\"\n",
    "                }\n",
    "                schedule['day1'].append(session_data)\n",
    "            \n",
    "            # Extract breakout sessions\n",
    "            breakout_container = schedule_container.find('div', class_='EventCategory_eventSchedule__events__cCu22')\n",
    "            if breakout_container:\n",
    "                breakout_events = breakout_container.find_all('div', class_='EventCategory_eventSchedule__event__AhbY3')\n",
    "                for event in breakout_events:\n",
    "                    session_data = {\n",
    "                        'title': event.find('h3', class_='EventCategory_eventSchedule__event-title__F2air').text.strip() if event.find('h3', class_='EventCategory_eventSchedule__event-title__F2air') else \"No Title\",\n",
    "                        'speaker': event.find('p', class_='EventCategory_eventSchedule__event-facilitator__nWvuU').text.strip() if event.find('p', class_='EventCategory_eventSchedule__event-facilitator__nWvuU') else \"Not specified\",\n",
    "                        'time': event.find('div', class_='EventCategory_eventSchedule__event-time__f_zfq').find('span', class_='text-sm').text.strip() if event.find('div', class_='EventCategory_eventSchedule__event-time__f_zfq') else \"Time not specified\",\n",
    "                        'room': \"Breakout Room\",\n",
    "                        'track': \"Breakout\",\n",
    "                        'session_type': \"Breakout\",\n",
    "                        'day': \"Day 1\"\n",
    "                    }\n",
    "                    schedule['day1'].append(session_data)\n",
    "    \n",
    "    except Exception as e:\n",
    "        print(f\"Error scraping schedule: {str(e)}\")\n",
    "        \n",
    "    return schedule\n",
    "\n",
    "def convert_to_documents(schedule_data: Dict[str, List[Dict]]) -> List[Document]:\n",
    "    \"\"\"\n",
    "    Convert schedule data into LlamaIndex Document objects\n",
    "    \"\"\"\n",
    "    documents = []\n",
    "    \n",
    "    for day, sessions in schedule_data.items():\n",
    "        for session in sessions:\n",
    "            # Create formatted content\n",
    "            content = f\"\"\"\n",
    "            Title: {session['title']}\n",
    "            Speaker: {session['speaker']}\n",
    "            Time: {session['time']}\n",
    "            Track: {session['track']}\n",
    "            Room: {session['room']}\n",
    "            Session Type: {session['session_type']}\n",
    "            Day: {session['day']}\n",
    "            \"\"\"\n",
    "            \n",
    "            # Create metadata for better querying\n",
    "            metadata = {\n",
    "                \"day\": session['day'],\n",
    "                \"track\": session['track'],\n",
    "                \"session_type\": session['session_type'],\n",
    "                \"speaker\": session['speaker'],\n",
    "                \"time\": session['time'],\n",
    "                \"room\": session['room']\n",
    "            }\n",
    "            \n",
    "            # Create Document object\n",
    "            doc = Document(\n",
    "                text=content,\n",
    "                metadata=metadata\n",
    "            )\n",
    "            documents.append(doc)\n",
    "    \n",
    "    return documents\n",
    "\n",
    "class DevFestScheduleTool:\n",
    "    \"\"\"Tool for handling DevFest schedule data\"\"\"\n",
    "    \n",
    "    def __init__(self):\n",
    "        self.schedule_data = None\n",
    "        self.documents = None\n",
    "    \n",
    "    def get_schedule(self) -> Dict[str, List[Dict]]:\n",
    "        \"\"\"Get schedule data\"\"\"\n",
    "        if not self.schedule_data:\n",
    "            self.schedule_data = get_devfest_schedule()\n",
    "        return self.schedule_data\n",
    "    \n",
    "    def get_documents(self) -> List[Document]:\n",
    "        \"\"\"Get schedule as Document objects\"\"\"\n",
    "        if not self.documents:\n",
    "            schedule_data = self.get_schedule()\n",
    "            self.documents = convert_to_documents(schedule_data)\n",
    "        return self.documents\n",
    "    \n",
    "    def save_schedule(self, filename: str = 'devfest_schedule.json'):\n",
    "        \"\"\"Save schedule to JSON file\"\"\"\n",
    "        schedule_data = self.get_schedule()\n",
    "        with open(filename, 'w', encoding='utf-8') as f:\n",
    "            json.dump(schedule_data, f, ensure_ascii=False, indent=2)\n",
    "    \n",
    "    def display_schedule(self):\n",
    "        \"\"\"Display schedule in notebook\"\"\"\n",
    "        schedule_data = self.get_schedule()\n",
    "        display(JSON(schedule_data))\n",
    "\n",
    "# Create the Llama Index Function Tool\n",
    "devfest_schedule_tool = FunctionTool.from_defaults(\n",
    "    fn=get_devfest_schedule,\n",
    "    name=\"get_devfest_schedule\",\n",
    "    description=\"Get the complete DevFest Lagos schedule as JSON data and convert to Document objects for indexing\"\n",
    ")\n",
    "\n",
    "# Example usage in Jupyter notebook\n",
    "if __name__ == \"__main__\":\n",
    "    # Create tool instance\n",
    "    tool = DevFestScheduleTool()\n",
    "    \n",
    "    # Get and display schedule\n",
    "    print(\"Fetching DevFest schedule...\")\n",
    "    tool.display_schedule()\n",
    "    \n",
    "    # Get documents\n",
    "    print(\"\\nConverting to Documents...\")\n",
    "    documents = tool.get_documents()\n",
    "    print(f\"Created {len(documents)} Document objects\")\n",
    "    \n",
    "    # Save schedule\n",
    "    tool.save_schedule()\n",
    "    print(\"\\nSchedule saved to devfest_schedule.json\")\n",
    "    \n",
    "    # Example of document content\n",
    "    if documents:\n",
    "        print(\"\\nExample Document content:\")\n",
    "        print(documents[0].text)\n",
    "        print(\"\\nExample Document metadata:\")\n",
    "        print(documents[0].metadata)"
   ]
  },
  {
   "cell_type": "code",
   "execution_count": 7,
   "id": "1b971098-8596-482e-90c8-c85650fd5429",
   "metadata": {
    "tags": []
   },
   "outputs": [
    {
     "data": {
      "application/json": {
       "day1": [
        {
         "day": "Day 1",
         "room": "outside",
         "session_type": "General",
         "speaker": "N/A",
         "time": "8:00 AM - 9:00 AM",
         "title": "Registration",
         "track": "General"
        },
        {
         "day": "Day 1",
         "room": "room 1",
         "session_type": "General",
         "speaker": "N/A",
         "time": "9:05 AM - 9:10 AM",
         "title": "Welcome to DevFest Lagos, Ground Rules and Safety",
         "track": "General"
        },
        {
         "day": "Day 1",
         "room": "room 1",
         "session_type": "General",
         "speaker": "N/A",
         "time": "9:15 AM - 9:45 AM",
         "title": "Keynote",
         "track": "General"
        },
        {
         "day": "Day 1",
         "room": "room 1",
         "session_type": "General",
         "speaker": "N/A",
         "time": "9:50 AM - 10:30 AM",
         "title": "TBD",
         "track": "General"
        },
        {
         "day": "Day 1",
         "room": "room 2",
         "session_type": "General",
         "speaker": "N/A",
         "time": "9:50 AM - 10:30 AM",
         "title": "Building Resilience Systems - Flexibility and Adaptability",
         "track": "General"
        },
        {
         "day": "Day 1",
         "room": "room 1",
         "session_type": "General",
         "speaker": "N/A",
         "time": "10:35 AM - 11:15 AM",
         "title": "TBD",
         "track": "General"
        },
        {
         "day": "Day 1",
         "room": "room 2",
         "session_type": "General",
         "speaker": "N/A",
         "time": "10:35 AM - 11:15 AM",
         "title": "Empowering Development at Every Scale with FlutterFlow",
         "track": "General"
        },
        {
         "day": "Day 1",
         "room": "outside",
         "session_type": "General",
         "speaker": "N/A",
         "time": "11:15 AM - 11:25 AM",
         "title": "Walk To Take Photograph",
         "track": "General"
        },
        {
         "day": "Day 1",
         "room": "outside",
         "session_type": "General",
         "speaker": "N/A",
         "time": "11:25 AM - 12:00 PM",
         "title": "Group Photograph",
         "track": "General"
        },
        {
         "day": "Day 1",
         "room": "outside",
         "session_type": "General",
         "speaker": "N/A",
         "time": "12:00 PM - 12:40 PM",
         "title": "Lunch",
         "track": "General"
        },
        {
         "day": "Day 1",
         "room": "outside",
         "session_type": "General",
         "speaker": "N/A",
         "time": "12:40 PM - 1:00 PM",
         "title": "Walk To Venue / Cleanup",
         "track": "General"
        },
        {
         "day": "Day 1",
         "room": "Main Hall",
         "session_type": "General",
         "speaker": "N/A",
         "time": "5:00 PM - 6:00 PM",
         "title": "Networking",
         "track": "General"
        },
        {
         "day": "Day 1",
         "room": "Breakout Room",
         "session_type": "Breakout",
         "speaker": "Yves Kalume",
         "time": "1:00 PM - 1:45 PM",
         "title": "Experiment Your Way To Success: A/B Testing for your Android Apps",
         "track": "Breakout"
        },
        {
         "day": "Day 1",
         "room": "Breakout Room",
         "session_type": "Breakout",
         "speaker": "Confidence Okoghenun",
         "time": "1:50 PM - 2:35 PM",
         "title": "Building Web Apps That Work Offline and Beyond",
         "track": "Breakout"
        },
        {
         "day": "Day 1",
         "room": "Breakout Room",
         "session_type": "Breakout",
         "speaker": "Olivier Leplus",
         "time": "2:40 PM - 3:25 PM",
         "title": "CSS Rises from the Ashes: (Re)Become Friends with Your Stylesheet",
         "track": "Breakout"
        },
        {
         "day": "Day 1",
         "room": "Breakout Room",
         "session_type": "Breakout",
         "speaker": "Gift Ojeabulu",
         "time": "3:30 PM - 4:15 PM",
         "title": "The Role of Developer Relations in the Success of AI/ML Products",
         "track": "Breakout"
        },
        {
         "day": "Day 1",
         "room": "Breakout Room",
         "session_type": "Breakout",
         "speaker": "Adeyanju Michael",
         "time": "4:20 PM - 5:05 PM",
         "title": "Building a Multi-Tenant SaaS with Microservices on Kubernetes",
         "track": "Breakout"
        },
        {
         "day": "Day 1",
         "room": "Breakout Room",
         "session_type": "Breakout",
         "speaker": "Nkorom Ezekiel Kingsley",
         "time": "5:05 PM - 5:50 PM",
         "title": "Cybersecurity Awareness For Small And Medium Enterprises",
         "track": "Breakout"
        }
       ],
       "day2": []
      },
      "text/plain": [
       "<IPython.core.display.JSON object>"
      ]
     },
     "metadata": {
      "application/json": {
       "expanded": false,
       "root": "root"
      }
     },
     "output_type": "display_data"
    },
    {
     "name": "stdout",
     "output_type": "stream",
     "text": [
      "First session: \n",
      "            Title: Registration\n",
      "            Speaker: N/A\n",
      "            Time: 8:00 AM - 9:00 AM\n",
      "            Track: General\n",
      "            Room: outside\n",
      "            Session Type: General\n",
      "            Day: Day 1\n",
      "            \n"
     ]
    }
   ],
   "source": [
    "# Basic usage\n",
    "tool = DevFestScheduleTool()\n",
    "\n",
    "# Get JSON data\n",
    "schedule_data = tool.get_schedule()\n",
    "tool.display_schedule()\n",
    "\n",
    "# Get Document objects\n",
    "documents = tool.get_documents()\n",
    "\n",
    "# Save to file\n",
    "tool.save_schedule()\n",
    "\n",
    "# Access individual documents\n",
    "print(f\"First session: {documents[0].text}\")"
   ]
  },
  {
   "cell_type": "code",
   "execution_count": 8,
   "id": "6bcd3836-9ef0-4a9c-872b-c9d0905793fd",
   "metadata": {
    "tags": []
   },
   "outputs": [
    {
     "name": "stdout",
     "output_type": "stream",
     "text": [
      "## Web Development Sessions at the Conference\n",
      "\n",
      "Based on the provided schedule, there are two sessions focused on web development:\n",
      "\n",
      "**Day 1:**\n",
      "\n",
      "* **10:35 AM - 11:15 AM:** **Empowering Development at Every Scale with FlutterFlow** (General Session, Room 2)\n",
      "* **1:50 PM - 2:35 PM:** **Building Web Apps That Work Offline and Beyond** (Breakout Session, Breakout Room) \n",
      "\n",
      "The first session, \"Empowering Development at Every Scale with FlutterFlow,\" is a general session that may cover web development aspects within the broader context of FlutterFlow. \n",
      "\n",
      "The second session, \"Building Web Apps That Work Offline and Beyond,\" is a dedicated breakout session specifically focused on building web applications with offline functionality and advanced capabilities. \n",
      "\n"
     ]
    }
   ],
   "source": [
    "# Get documents\n",
    "tool = DevFestScheduleTool()\n",
    "lagos_documents = tool.get_documents()\n",
    "\n",
    "# Create index\n",
    "index = VectorStoreIndex.from_documents(lagos_documents)\n",
    "\n",
    "# Create query engine\n",
    "query_engine = index.as_query_engine()\n",
    "\n",
    "# Query the schedule\n",
    "response = query_engine.query(\"What sessions are about web development?\")\n",
    "print(response)"
   ]
  },
  {
   "cell_type": "code",
   "execution_count": 9,
   "id": "64cdaa99-a159-41d8-8a1f-09afc3e0f132",
   "metadata": {
    "tags": []
   },
   "outputs": [
    {
     "name": "stdout",
     "output_type": "stream",
     "text": [
      "## Sessions about AI and Machine Learning:\n",
      "\n",
      "Based on the provided context, there is one session that directly relates to AI and Machine Learning:\n",
      "\n",
      "* **Title:** The Role of Developer Relations in the Success of AI/ML Products\n",
      "* **Speaker:** Gift Ojeabulu\n",
      "* **Time:** 3:30 PM - 4:15 PM\n",
      "* **Track:** Breakout\n",
      "* **Room:** Breakout Room\n",
      "* **Day:** Day 1\n",
      "\n",
      "This session will likely discuss the crucial role developer relations play in the successful development and deployment of AI/ML products. It may cover topics such as building communities, fostering collaboration, and providing support to developers working with AI/ML technologies. \n",
      "\n",
      "While the other session listed, \"Experiment Your Way To Success: A/B Testing for your Android Apps,\" does not directly focus on AI/ML, it may still be relevant for those interested in building and testing AI/ML-powered Android applications. A/B testing is a valuable tool for optimizing app performance and user experience, and understanding its principles can be beneficial for developers working with any type of app, including those incorporating AI/ML features. \n",
      "\n"
     ]
    }
   ],
   "source": [
    "# > What sessions are available tomorrow?\n",
    "# > Find me sessions about AI and machine learning\n",
    "# > Who is speaking about web development?\n",
    "# > Recommend sessions for someone interested in cloud computing\n",
    "\n",
    "\n",
    "#   \"Show me all AI sessions on Day 1\",\n",
    "#     \"Who are the keynote speakers?\",\n",
    "#     \"Recommend sessions for a web developer\",\n",
    "#     \"What's happening in Room 1 tomorrow?\",\n",
    "#     \"Is there a workshop about cloud computing?\"\n",
    "\n",
    "# Query the schedule\n",
    "response = query_engine.query(\"Find me sessions about AI and machine learning\")\n",
    "print(response)"
   ]
  },
  {
   "cell_type": "code",
   "execution_count": 10,
   "id": "9f47d47c-7bc8-4963-b979-8cf6e7c518e3",
   "metadata": {
    "tags": []
   },
   "outputs": [
    {
     "name": "stdout",
     "output_type": "stream",
     "text": [
      "## Session Recommendations for a Web Developer:\n",
      "\n",
      "Based on the provided context, here are two sessions that would be particularly relevant and beneficial for a web developer:\n",
      "\n",
      "**1. Building Web Apps That Work Offline and Beyond:** This session, led by Confidence Okoghenun, focuses on building web applications that function effectively both online and offline. This is a crucial skill for any web developer, as it ensures that users can access and interact with your applications even when they don't have a stable internet connection. \n",
      "\n",
      "**2. Empowering Development at Every Scale with FlutterFlow:** While not specifically targeted at web development, this session explores the capabilities of FlutterFlow, a platform that allows developers to build cross-platform applications (web, mobile, and desktop) using a visual interface. This could be valuable for web developers who are interested in expanding their skillset and exploring new development possibilities.\n",
      "\n",
      "**Additional Considerations:**\n",
      "\n",
      "* **Day 1:** Both sessions are scheduled for Day 1 of the event. \n",
      "* **Time:** The \"Building Web Apps That Work Offline and Beyond\" session takes place from 1:50 PM to 2:35 PM, while the \"Empowering Development at Every Scale with FlutterFlow\" session is scheduled for 10:35 AM to 11:15 AM. \n",
      "* **Track:** The first session falls under the \"Breakout\" track, while the second belongs to the \"General\" track. \n",
      "* **Room:** The \"Building Web Apps That Work Offline and Beyond\" session will be held in the \"Breakout Room,\" while the \"Empowering Development at Every Scale with FlutterFlow\" session takes place in \"room 2.\"\n",
      "\n",
      "**Ultimately, the best session for you will depend on your specific interests and goals.** If you are primarily interested in learning about building offline-capable web applications, then the first session is the clear choice. However, if you are interested in exploring cross-platform development possibilities, then the second session might be more relevant. \n",
      "\n"
     ]
    }
   ],
   "source": [
    "# Query the schedule\n",
    "response = query_engine.query(\"Recommend sessions for a web developer\")\n",
    "print(response)"
   ]
  },
  {
   "cell_type": "markdown",
   "id": "40bfbd29-ab6e-42f9-b8d4-9ba97a6e8bcf",
   "metadata": {},
   "source": [
    "## DevFest Nairobi Scraper"
   ]
  },
  {
   "cell_type": "markdown",
   "id": "38debda6-61cf-4ea0-b617-5aa0c00b368c",
   "metadata": {},
   "source": [
    "https://gdg.community.dev/events/details/google-gdg-nairobi-presents-devfest-nairobi-2024-1/"
   ]
  },
  {
   "cell_type": "code",
   "execution_count": 33,
   "id": "ac7cc4a5-7b85-4592-92e7-a2e1f77b059b",
   "metadata": {
    "tags": []
   },
   "outputs": [],
   "source": [
    "def extract_agenda_data(html_content: str) -> Dict:\n",
    "    \"\"\"Extract and parse agenda data from the page source\"\"\"\n",
    "    try:\n",
    "        # Look for the eventInfo object\n",
    "        pattern = r'Globals\\.eventInfo\\s*=\\s*({[^;]*});'\n",
    "        match = re.search(pattern, html_content, re.DOTALL)\n",
    "        \n",
    "        if not match:\n",
    "            logger.error(\"Could not find eventInfo in page\")\n",
    "            return {}\n",
    "            \n",
    "        # Get the raw eventInfo string\n",
    "        event_info_str = match.group(1)\n",
    "        \n",
    "        # Extract the agenda portion\n",
    "        agenda_pattern = r'\"agenda\":\\s*({[^}]*})'\n",
    "        agenda_match = re.search(agenda_pattern, event_info_str, re.DOTALL)\n",
    "        \n",
    "        if not agenda_match:\n",
    "            logger.error(\"Could not find agenda data\")\n",
    "            return {}\n",
    "            \n",
    "        # Get the raw agenda string and clean it up\n",
    "        agenda_str = agenda_match.group(1)\n",
    "        agenda_str = (\n",
    "            agenda_str\n",
    "            .replace(\"'\", '\"')\n",
    "            .replace('multiday', '\"multiday\"')\n",
    "            .replace('any_descriptions', '\"any_descriptions\"')\n",
    "            .replace('empty', '\"empty\"')\n",
    "            .replace('days', '\"days\"')\n",
    "            .replace('title', '\"title\"')\n",
    "            .replace('agenda', '\"agenda\"')\n",
    "            .replace('time', '\"time\"')\n",
    "            .replace('activity', '\"activity\"')\n",
    "            .replace('description', '\"description\"')\n",
    "            .replace('audience_type', '\"audience_type\"')\n",
    "        )\n",
    "        \n",
    "        # Add quotes around string values\n",
    "        agenda_str = re.sub(r':\\s*([^\",\\{\\[\\d][^,\\}\\]]*?)(?=,|\\}|\\])', r': \"\\1\"', agenda_str)\n",
    "        \n",
    "        # Fix booleans\n",
    "        agenda_str = agenda_str.replace('\"true\"', 'true').replace('\"false\"', 'false')\n",
    "        \n",
    "        try:\n",
    "            # Parse the cleaned JSON\n",
    "            agenda_data = json.loads(agenda_str)\n",
    "            logger.info(\"Successfully parsed agenda data\")\n",
    "            return agenda_data\n",
    "        except json.JSONDecodeError as e:\n",
    "            logger.error(f\"JSON parsing error: {e}\")\n",
    "            # Save problematic string for debugging\n",
    "            with open('debug_agenda.json', 'w') as f:\n",
    "                f.write(agenda_str)\n",
    "            return {}\n",
    "            \n",
    "    except Exception as e:\n",
    "        logger.error(f\"Error extracting agenda data: {e}\")\n",
    "        return {}\n",
    "\n",
    "def get_devfest_schedule() -> Dict[str, List[Dict]]:\n",
    "    \"\"\"Fetch and parse the DevFest schedule\"\"\"\n",
    "    schedule = {\n",
    "        'day1': []\n",
    "    }\n",
    "    \n",
    "    try:\n",
    "        url = \"https://gdg.community.dev/events/details/google-gdg-nairobi-presents-devfest-nairobi-2024-1/\"\n",
    "        logger.info(f\"Fetching schedule from: {url}\")\n",
    "        \n",
    "        response = requests.get(url, headers={\n",
    "            'User-Agent': 'Mozilla/5.0 (Windows NT 10.0; Win64; x64) AppleWebKit/537.36',\n",
    "            'Accept': 'text/html,application/xhtml+xml,application/xml;q=0.9,image/webp,*/*;q=0.8',\n",
    "        })\n",
    "        response.raise_for_status()\n",
    "        \n",
    "        # Save the HTML for debugging if needed\n",
    "        with open('page_source.html', 'w', encoding='utf-8') as f:\n",
    "            f.write(response.text)\n",
    "            \n",
    "        # Extract the JavaScript object containing the schedule\n",
    "        js_pattern = r'Globals\\.eventInfo\\s*=\\s*({.*?});'\n",
    "        js_match = re.search(js_pattern, response.text, re.DOTALL)\n",
    "        \n",
    "        if not js_match:\n",
    "            logger.error(\"Could not find eventInfo object\")\n",
    "            return schedule\n",
    "            \n",
    "        # Get the raw eventInfo string\n",
    "        event_info_str = js_match.group(1)\n",
    "        \n",
    "        # Extract the schedule data using eval (since it's a JavaScript object)\n",
    "        import ast\n",
    "        try:\n",
    "            # Convert JavaScript object to Python dict\n",
    "            event_info_str = event_info_str.replace('false', 'False').replace('true', 'True')\n",
    "            event_info = ast.literal_eval(event_info_str)\n",
    "            \n",
    "            # Get the agenda data\n",
    "            agenda_data = event_info.get('agenda', {})\n",
    "            days_data = agenda_data.get('days', [])\n",
    "            \n",
    "            if not days_data:\n",
    "                logger.error(\"No days data found\")\n",
    "                return schedule\n",
    "                \n",
    "            # Process the first day\n",
    "            day_data = days_data[0]\n",
    "            day_agenda = day_data.get('agenda', [])\n",
    "            \n",
    "            for session in day_agenda:\n",
    "                # Extract room and title\n",
    "                activity = session.get('activity', '')\n",
    "                room = \"\"\n",
    "                title = activity\n",
    "                \n",
    "                # Check for room in brackets\n",
    "                if '[' in activity and ']' in activity:\n",
    "                    match = re.match(r'\\[(.*?)\\](.*)', activity)\n",
    "                    if match:\n",
    "                        room = match.group(1).strip()\n",
    "                        title = match.group(2).strip()\n",
    "                \n",
    "                session_data = {\n",
    "                    'title': title,\n",
    "                    'time': session.get('time', ''),\n",
    "                    'description': session.get('description', ''),\n",
    "                    'room': room,\n",
    "                    'audience_type': session.get('audience_type', 'IN_PERSON'),\n",
    "                    'track': 'General',  # Will be determined later\n",
    "                    'session_type': 'Session',  # Will be determined later\n",
    "                    'speaker': ''  # Will be extracted from description\n",
    "                }\n",
    "                \n",
    "                # Extract speaker if in description\n",
    "                if session_data['description']:\n",
    "                    session_data['speaker'] = session_data['description']\n",
    "                \n",
    "                schedule['day1'].append(session_data)\n",
    "                \n",
    "            logger.info(f\"Successfully processed {len(schedule['day1'])} sessions\")\n",
    "            \n",
    "        except Exception as e:\n",
    "            logger.error(f\"Error parsing event info: {e}\")\n",
    "            \n",
    "    except Exception as e:\n",
    "        logger.error(f\"Error processing schedule: {e}\")\n",
    "        \n",
    "    return schedule\n",
    "\n",
    "# Update display function to handle empty schedules\n",
    "def display_schedule(schedule_data: Dict[str, List[Dict]], show_details: bool = True):\n",
    "    \"\"\"Display the schedule in a readable format\"\"\"\n",
    "    if not schedule_data or not schedule_data.get('day1'):\n",
    "        print(\"\\nNo schedule data available. Please check the logs for errors.\")\n",
    "        return\n",
    "        \n",
    "    sessions = schedule_data['day1']\n",
    "    if not sessions:\n",
    "        print(\"\\nNo sessions found in the schedule.\")\n",
    "        return\n",
    "        \n",
    "    print(\"\\n=== DevFest Nairobi 2024 Schedule ===\\n\")\n",
    "    \n",
    "    # Sort sessions by time\n",
    "    for session in sorted(sessions, key=lambda x: x.get('time', '')):\n",
    "        print(f\"Time: {session['time']}\")\n",
    "        print(f\"Title: {session['title']}\")\n",
    "        if session['room']:\n",
    "            print(f\"Room: {session['room']}\")\n",
    "        if session['speaker']:\n",
    "            print(f\"Speaker: {session['speaker']}\")\n",
    "        if show_details and session['description']:\n",
    "            print(f\"Description: {session['description']}\")\n",
    "        print(\"-\" * 50)\n",
    "\n",
    "\n",
    "\n"
   ]
  },
  {
   "cell_type": "code",
   "execution_count": 34,
   "id": "c1826c92-6d43-40f8-b914-0d2e8276ad4c",
   "metadata": {
    "tags": []
   },
   "outputs": [
    {
     "name": "stderr",
     "output_type": "stream",
     "text": [
      "INFO:__main__:Fetching schedule from: https://gdg.community.dev/events/details/google-gdg-nairobi-presents-devfest-nairobi-2024-1/\n"
     ]
    },
    {
     "name": "stdout",
     "output_type": "stream",
     "text": [
      "Fetching DevFest schedule...\n"
     ]
    },
    {
     "name": "stderr",
     "output_type": "stream",
     "text": [
      "INFO:__main__:Successfully processed 35 sessions\n"
     ]
    },
    {
     "name": "stdout",
     "output_type": "stream",
     "text": [
      "\n",
      "=== DevFest Nairobi 2024 Schedule ===\n",
      "\n",
      "Time: 10:00 AM\n",
      "Title: Room Transition\n",
      "--------------------------------------------------\n",
      "Time: 10:10 AM\n",
      "Title: Algorithm, DSA & Problem-solving Session\n",
      "Room: Malewa Hall\n",
      "Speaker: Google Kenya Engineering Team\n",
      "Description: Google Kenya Engineering Team\n",
      "--------------------------------------------------\n",
      "Time: 10:10 AM\n",
      "Title: Build and Deploy an AI-Powered Blood Pressure Tracker on Google Cloud Run\n",
      "Room: Main Hall\n",
      "Speaker: Femi Taiwo (GDE Cloud)\n",
      "Description: Femi Taiwo (GDE Cloud)\n",
      "--------------------------------------------------\n",
      "Time: 10:10 AM\n",
      "Title: Building and Deploying AI powered agentic apps with Firebase, Flutter, and IDX` Join is in a live demo learning how to use Firebase, Flutter, and IDX to build and deploy an AI powered agentic Travel \"Dreaming\" application\n",
      "Room: Turkwell Hall\n",
      "Speaker: Seba Gnagnarella, Director of Engineering, Google, Firebase\n",
      "Description: Seba Gnagnarella, Director of Engineering, Google, Firebase\n",
      "--------------------------------------------------\n",
      "Time: 10:10 AM\n",
      "Title: What is new on the web? The latest advancements in web apis, web assembly and web capabilities\n",
      "Room: Rooftop Hall\n",
      "Speaker: Michelle Buchi (GDE Web)\n",
      "Description: Michelle Buchi (GDE Web)\n",
      "--------------------------------------------------\n",
      "Time: 11:10 AM\n",
      "Title: Room Transition\n",
      "--------------------------------------------------\n",
      "Time: 11:15 AM\n",
      "Title: Bridging Languages: Building AI-Powered Multilingual Chat Applications with Android and Gemini\n",
      "Room: Main Hall\n",
      "Speaker: Marvin Ngesa and Jessica Randall\n",
      "Description: Marvin Ngesa and Jessica Randall\n",
      "--------------------------------------------------\n",
      "Time: 11:15 AM\n",
      "Title: Firebase Fundamentals : Structuring your Nosql Data For scalability and reporting\n",
      "Room: Turkwell Hall\n",
      "Speaker: Jason Berryman -  Google Cloud Architect & Google Developer Expert\n",
      "Description: Jason Berryman -  Google Cloud Architect & Google Developer Expert\n",
      "--------------------------------------------------\n",
      "Time: 11:15 AM\n",
      "Title: Not a Senior Dev Yet: Modular Software Development And Release\n",
      "Room: Rooftop Hall\n",
      "Speaker: Marvin Hosea - Managing Partner · Apps:Lab Limited\n",
      "Description: Marvin Hosea - Managing Partner · Apps:Lab Limited\n",
      "--------------------------------------------------\n",
      "Time: 11:15 AM\n",
      "Title: Networking + Q&A\n",
      "Room: Malewa Hall\n",
      "Speaker: Google Kenya Engineering Team\n",
      "\n",
      "Description: Google Kenya Engineering Team\n",
      "\n",
      "--------------------------------------------------\n",
      "Time: 11:55 AM\n",
      "Title: Photo Session & Lunch & Networking\n",
      "--------------------------------------------------\n",
      "Time: 12:50 PM\n",
      "Title: Partner Session : DigiTax Kenya\n",
      "--------------------------------------------------\n",
      "Time: 1:00 PM\n",
      "Title: Google's Blueprint for Attracting and Retaining Diverse Talent for an Inclusive Workplace\n",
      "Speaker: Bob Jusu -  Program Manager - Africa Strategic Partnerships · Google\n",
      "Description: Bob Jusu -  Program Manager - Africa Strategic Partnerships · Google\n",
      "--------------------------------------------------\n",
      "Time: 1:20 PM\n",
      "Title: Room Transition\n",
      "--------------------------------------------------\n",
      "Time: 1:20 PM\n",
      "Title: The Angular Renaissance - Adopting the New Angular Way\n",
      "Room: Main Hall\n",
      "Speaker: Wycliff Maina - Frontend Engineer - TypeScript Aficionado && GDE Web\n",
      "Description: Wycliff Maina - Frontend Engineer - TypeScript Aficionado && GDE Web\n",
      "--------------------------------------------------\n",
      "Time: 1:20 PM\n",
      "Title: [Gemma] AI hands-on Workshop\n",
      "Room: Turkwell Hall\n",
      "Speaker: Oscar Wahltinez - Developer Relations @Google\n",
      "Description: Oscar Wahltinez - Developer Relations @Google\n",
      "--------------------------------------------------\n",
      "Time: 1:25 PM\n",
      "Title: [AI] Exploring Autonomous AI: Aligning Ethics, Technology, Society and Law Through TensorFlow\n",
      "Room: Rooftop Hall\n",
      "Speaker: Risper Joy - Data Scientist\n",
      "Description: Risper Joy - Data Scientist\n",
      "--------------------------------------------------\n",
      "Time: 1:25 PM\n",
      "Title: [Google Cloud] Optimizing Cloud Infrastructure Management with Terraform\n",
      "Room: Malewa Hall\n",
      "Speaker: Rebecca Mirembe - Professional Security Analyst | Cloud Engineer\n",
      "Description: Rebecca Mirembe - Professional Security Analyst | Cloud Engineer\n",
      "--------------------------------------------------\n",
      "Time: 2:25 PM\n",
      "Title: Room Transition\n",
      "--------------------------------------------------\n",
      "Time: 2:30 PM\n",
      "Title: Angular's New Control Flow  Syntax\n",
      "Room: Main Hall\n",
      "Speaker: Wayne Gakuo -  Google Developer Expert for Angular | Frontend Engineer | Lead @ Angular Kenya \n",
      "Description: Wayne Gakuo -  Google Developer Expert for Angular | Frontend Engineer | Lead @ Angular Kenya \n",
      "--------------------------------------------------\n",
      "Time: 2:30 PM\n",
      "Title: [Android] Faster UI Iterations With Screenshot Testing\n",
      "Room: Turkwell Hall\n",
      "Speaker: Mambo Bryan - Kotlin Engineer. Organizing @droidconke.\n",
      "Description: Mambo Bryan - Kotlin Engineer. Organizing @droidconke.\n",
      "--------------------------------------------------\n",
      "Time: 2:30 PM\n",
      "Title: [AI] Building Responsible AI with Generative Models\n",
      "Room: Rooftop Hall\n",
      "Speaker: Wesley Kambale - Machine learning engineer and Data scientist\n",
      "Description: Wesley Kambale - Machine learning engineer and Data scientist\n",
      "--------------------------------------------------\n",
      "Time: 2:30 PM\n",
      "Title: [Flutter] Building AI-Enhanced E-commerce Apps with Flutter and Firebase Genkit\n",
      "Room: Malewa Hall\n",
      "Speaker: Bright Sunu - Software Engineer. Google Developer Expert\n",
      "Description: Bright Sunu - Software Engineer. Google Developer Expert\n",
      "--------------------------------------------------\n",
      "Time: 3:10 PM\n",
      "Title: Room Transition\n",
      "--------------------------------------------------\n",
      "Time: 3:15 PM\n",
      "Title: [Flutter] OTA Flutter Updates with Shorebird: From Setup to Production Success\n",
      "Room: Malewa Hall\n",
      "Speaker: Samuel Abada - Google Developer Expert Flutter & Dart\n",
      "Description: Samuel Abada - Google Developer Expert Flutter & Dart\n",
      "--------------------------------------------------\n",
      "Time: 3:15 PM\n",
      "Title: [ML] Building Responsible AI Through Explainability with Keras\n",
      "Room: Main Hall\n",
      "Speaker: Brayan Kai - Data Scientist and Technical Writer \n",
      "Description: Brayan Kai - Data Scientist and Technical Writer \n",
      "--------------------------------------------------\n",
      "Time: 3:15 PM\n",
      "Title: [Android] Palm Rejection in Android: Going Beyond to support all devices\n",
      "Room: Turkwell Hall\n",
      "Speaker:  Ferdinand Bada - Snr Software Developer | Google Certified Associate Android Engineer\n",
      "Description:  Ferdinand Bada - Snr Software Developer | Google Certified Associate Android Engineer\n",
      "--------------------------------------------------\n",
      "Time: 3:15 PM\n",
      "Title: [AI] Transfer Learning Turbo: Detecting Pneumonia with Keras, TensorFlow & Style!\n",
      "Room: Rooftop Hall\n",
      "Speaker: Kayongo Johnson Brian - Team Lead - InversePay\n",
      "Description: Kayongo Johnson Brian - Team Lead - InversePay\n",
      "--------------------------------------------------\n",
      "Time: 3:55 PM\n",
      "Title: Closing Remarks by GDG Nairobi\n",
      "--------------------------------------------------\n",
      "Time: 4:00 PM\n",
      "Title: Networking\n",
      "--------------------------------------------------\n",
      "Time: 8:00 AM\n",
      "Title: Arrival And Registration\n",
      "--------------------------------------------------\n",
      "Time: 8:30 AM\n",
      "Title: Intro video reels + preshow + community guidelines + sponsor videos\n",
      "--------------------------------------------------\n",
      "Time: 9:00 AM\n",
      "Title: Welcome Address (GDG Nairobi)\n",
      "Speaker: Kai Mwanyumba & Cynthia Kamau\n",
      "Description: Kai Mwanyumba & Cynthia Kamau\n",
      "--------------------------------------------------\n",
      "Time: 9:20 AM\n",
      "Title: Google Keynote Address\n",
      "Speaker: John Kimani - Senior Program Manager, Google's Developer Ecosystem \n",
      "Description: John Kimani - Senior Program Manager, Google's Developer Ecosystem \n",
      "--------------------------------------------------\n",
      "Time: 9:30 AM\n",
      "Title: How you Build Apps with Google\" Learn about the latest Google efforts to shape how You Build Apps.\n",
      "Speaker: Seba Gnagnarella, Director of Engineering, Google, Firebase\n",
      "Description: Seba Gnagnarella, Director of Engineering, Google, Firebase\n",
      "--------------------------------------------------\n"
     ]
    }
   ],
   "source": [
    "# Test the scraper\n",
    "if __name__ == \"__main__\":\n",
    "    # Configure logging\n",
    "    logging.basicConfig(level=logging.INFO)\n",
    "    logger = logging.getLogger(__name__)\n",
    "    \n",
    "    # Get the schedule\n",
    "    print(\"Fetching DevFest schedule...\")\n",
    "    schedule = get_devfest_schedule()\n",
    "    \n",
    "    # Display the schedule\n",
    "    display_schedule(schedule)\n",
    "    \n",
    "    # Save to file for debugging\n",
    "    with open('schedule_data.json', 'w', encoding='utf-8') as f:\n",
    "        json.dump(schedule, f, indent=2, ensure_ascii=False)\n"
   ]
  },
  {
   "cell_type": "code",
   "execution_count": 35,
   "id": "e91b9f62-6beb-47f6-8db1-d1551e76d484",
   "metadata": {
    "tags": []
   },
   "outputs": [],
   "source": [
    "def convert_to_documents(schedule_data: Dict[str, List[Dict]]) -> List[Document]:\n",
    "    \"\"\"\n",
    "    Convert schedule data into LlamaIndex Document objects\n",
    "    \"\"\"\n",
    "    documents = []\n",
    "    \n",
    "    for day, sessions in schedule_data.items():\n",
    "        for session in sessions:\n",
    "            # Create formatted content with safe access to fields\n",
    "            content = f\"\"\"\n",
    "            Title: {session['title']}\n",
    "            Time: {session['time']}\n",
    "            Room: {session.get('room', 'Not specified')}\n",
    "            Speaker: {session.get('speaker', 'Not specified')}\n",
    "            Track: {session.get('track', 'General')}\n",
    "            Session Type: {session.get('session_type', 'Session')}\n",
    "            Description: {session.get('description', '')}\n",
    "            Audience Type: {session.get('audience_type', 'IN_PERSON')}\n",
    "            Day: {day.replace('day', 'Day ')}\n",
    "            \"\"\"\n",
    "            \n",
    "            # Create metadata for better querying\n",
    "            metadata = {\n",
    "                \"title\": session['title'],\n",
    "                \"time\": session['time'],\n",
    "                \"room\": session.get('room', 'Not specified'),\n",
    "                \"speaker\": session.get('speaker', 'Not specified'),\n",
    "                \"track\": session.get('track', 'General'),\n",
    "                \"session_type\": session.get('session_type', 'Session'),\n",
    "                \"description\": session.get('description', ''),\n",
    "                \"audience_type\": session.get('audience_type', 'IN_PERSON'),\n",
    "                \"day\": day.replace('day', 'Day '),\n",
    "                \"event\": \"DevFest Nairobi 2024\"\n",
    "            }\n",
    "            \n",
    "            # Create Document object\n",
    "            doc = Document(\n",
    "                text=content,\n",
    "                metadata=metadata\n",
    "            )\n",
    "            documents.append(doc)\n",
    "    \n",
    "    return documents\n",
    "\n",
    "class DevFestScheduleTool:\n",
    "    \"\"\"Tool for handling DevFest schedule data\"\"\"\n",
    "    \n",
    "    def __init__(self):\n",
    "        self.schedule_data = None\n",
    "        self.documents = None\n",
    "    \n",
    "    def get_schedule(self) -> Dict[str, List[Dict]]:\n",
    "        \"\"\"Get schedule data\"\"\"\n",
    "        if not self.schedule_data:\n",
    "            self.schedule_data = get_devfest_schedule()\n",
    "        return self.schedule_data\n",
    "    \n",
    "    def get_documents(self) -> List[Document]:\n",
    "        \"\"\"Get schedule as Document objects\"\"\"\n",
    "        if not self.documents:\n",
    "            schedule_data = self.get_schedule()\n",
    "            self.documents = convert_to_documents(schedule_data)\n",
    "            logger.info(f\"Created {len(self.documents)} documents\")\n",
    "        return self.documents\n",
    "    \n",
    "    def save_schedule(self, filename: str = 'devfest_nairobi_schedule.json'):\n",
    "        \"\"\"Save schedule to JSON file\"\"\"\n",
    "        schedule_data = self.get_schedule()\n",
    "        with open(filename, 'w', encoding='utf-8') as f:\n",
    "            json.dump(schedule_data, f, ensure_ascii=False, indent=2)\n",
    "    \n",
    "    def display_schedule(self, show_details: bool = False):\n",
    "        \"\"\"Display schedule in notebook\"\"\"\n",
    "        if show_details:\n",
    "            documents = self.get_documents()\n",
    "            for doc in documents:\n",
    "                print(\"\\n\" + \"=\"*50)\n",
    "                print(doc.text)\n",
    "        else:\n",
    "            schedule_data = self.get_schedule()\n",
    "            display(JSON(schedule_data))\n",
    "\n",
    "# Create the Llama Index Function Tool\n",
    "devfest_schedule_tool = FunctionTool.from_defaults(\n",
    "    fn=get_devfest_schedule,\n",
    "    name=\"get_devfest_schedule\",\n",
    "    description=\"Get the complete DevFest Nairobi 2024 schedule as JSON data and convert to Document objects for indexing\"\n",
    ")"
   ]
  },
  {
   "cell_type": "code",
   "execution_count": 37,
   "id": "11360385-c5af-4070-979e-37bd3fb944cf",
   "metadata": {
    "tags": []
   },
   "outputs": [
    {
     "name": "stderr",
     "output_type": "stream",
     "text": [
      "INFO:__main__:Fetching schedule from: https://gdg.community.dev/events/details/google-gdg-nairobi-presents-devfest-nairobi-2024-1/\n",
      "INFO:__main__:Successfully processed 35 sessions\n",
      "INFO:__main__:Created 35 documents\n"
     ]
    },
    {
     "data": {
      "application/vnd.jupyter.widget-view+json": {
       "model_id": "9e94d0d7c16843d381d6bee1533f5a9f",
       "version_major": 2,
       "version_minor": 0
      },
      "text/plain": [
       "Batches:   0%|          | 0/1 [00:00<?, ?it/s]"
      ]
     },
     "metadata": {},
     "output_type": "display_data"
    },
    {
     "data": {
      "application/vnd.jupyter.widget-view+json": {
       "model_id": "6f4fc5a79d654c7badbff5f15d6259f4",
       "version_major": 2,
       "version_minor": 0
      },
      "text/plain": [
       "Batches:   0%|          | 0/1 [00:00<?, ?it/s]"
      ]
     },
     "metadata": {},
     "output_type": "display_data"
    },
    {
     "data": {
      "application/vnd.jupyter.widget-view+json": {
       "model_id": "f304bdc7a8c4419c8d47afece08888b7",
       "version_major": 2,
       "version_minor": 0
      },
      "text/plain": [
       "Batches:   0%|          | 0/1 [00:00<?, ?it/s]"
      ]
     },
     "metadata": {},
     "output_type": "display_data"
    },
    {
     "data": {
      "application/vnd.jupyter.widget-view+json": {
       "model_id": "bfd44a42f3054697a84b1e7ed9036a6d",
       "version_major": 2,
       "version_minor": 0
      },
      "text/plain": [
       "Batches:   0%|          | 0/1 [00:00<?, ?it/s]"
      ]
     },
     "metadata": {},
     "output_type": "display_data"
    },
    {
     "data": {
      "application/vnd.jupyter.widget-view+json": {
       "model_id": "2b19c3ff459541eb8ee84bbf9603e092",
       "version_major": 2,
       "version_minor": 0
      },
      "text/plain": [
       "Batches:   0%|          | 0/1 [00:00<?, ?it/s]"
      ]
     },
     "metadata": {},
     "output_type": "display_data"
    },
    {
     "name": "stdout",
     "output_type": "stream",
     "text": [
      "I am sorry, but the context provided does not contain information about afternoon sessions. The context only includes information about two sessions: Room Transition at 11:10 AM and Photo Session & Lunch & Networking at 11:55 AM. \n",
      "\n"
     ]
    }
   ],
   "source": [
    "# Create tool instance\n",
    "tool = DevFestScheduleTool()\n",
    "\n",
    "# Get documents\n",
    "nairobi_documents = tool.get_documents()\n",
    "\n",
    "# Build index\n",
    "index = VectorStoreIndex.from_documents(nairobi_documents)\n",
    "\n",
    "# Create query engine\n",
    "query_engine = index.as_query_engine()\n",
    "\n",
    "# Test query\n",
    "response = query_engine.query(\"What sessions are available in the afternoon?\")\n",
    "print(response)"
   ]
  },
  {
   "cell_type": "code",
   "execution_count": 38,
   "id": "6a05cbef-e42b-45bb-b8a8-d51347699d27",
   "metadata": {
    "tags": []
   },
   "outputs": [
    {
     "data": {
      "application/vnd.jupyter.widget-view+json": {
       "model_id": "70441bc8a94849109209bb29d4b180df",
       "version_major": 2,
       "version_minor": 0
      },
      "text/plain": [
       "Batches:   0%|          | 0/1 [00:00<?, ?it/s]"
      ]
     },
     "metadata": {},
     "output_type": "display_data"
    },
    {
     "name": "stdout",
     "output_type": "stream",
     "text": [
      "## AI and Machine Learning Sessions at DevFest Nairobi 2024\n",
      "\n",
      "Based on the provided context, here are the sessions about AI and machine learning at DevFest Nairobi 2024:\n",
      "\n",
      "**Day 1:**\n",
      "\n",
      "* **[AI] Exploring Autonomous AI: Aligning Ethics, Technology, Society and Law Through TensorFlow**\n",
      "    * Time: 1:25 PM\n",
      "    * Room: Rooftop Hall\n",
      "    * Speaker: Risper Joy - Data Scientist\n",
      "    * Track: General\n",
      "    * Session Type: Session\n",
      "    * Description: This session will explore the ethical, technological, societal, and legal considerations of autonomous AI, using TensorFlow as a framework.\n",
      "    * Audience Type: IN_PERSON\n",
      "* **[ML] Building Responsible AI Through Explainability with Keras**\n",
      "    * Time: 3:15 PM\n",
      "    * Room: Main Hall\n",
      "    * Speaker: Brayan Kai - Data Scientist and Technical Writer\n",
      "    * Track: General\n",
      "    * Session Type: Session\n",
      "    * Description: This session will discuss how to build responsible AI models using explainability techniques with Keras.\n",
      "    * Audience Type: IN_PERSON \n",
      "\n"
     ]
    }
   ],
   "source": [
    "# Query the schedule\n",
    "response = query_engine.query(\"Find me sessions about AI and machine learning\")\n",
    "print(response)"
   ]
  },
  {
   "cell_type": "markdown",
   "id": "96d9af10-4923-47ca-9154-45472d662cda",
   "metadata": {},
   "source": [
    "## ReACT"
   ]
  },
  {
   "cell_type": "code",
   "execution_count": 39,
   "id": "d946f7bd-2a3f-4b7e-8192-da73f23cdbd2",
   "metadata": {
    "tags": []
   },
   "outputs": [
    {
     "data": {
      "application/vnd.jupyter.widget-view+json": {
       "model_id": "b0ba271935af44b28bf03d1dfcb6f9b0",
       "version_major": 2,
       "version_minor": 0
      },
      "text/plain": [
       "Batches:   0%|          | 0/1 [00:00<?, ?it/s]"
      ]
     },
     "metadata": {},
     "output_type": "display_data"
    },
    {
     "data": {
      "application/vnd.jupyter.widget-view+json": {
       "model_id": "65fea4c682d74ae6a060dece90d950c6",
       "version_major": 2,
       "version_minor": 0
      },
      "text/plain": [
       "Batches:   0%|          | 0/1 [00:00<?, ?it/s]"
      ]
     },
     "metadata": {},
     "output_type": "display_data"
    },
    {
     "data": {
      "application/vnd.jupyter.widget-view+json": {
       "model_id": "5b558b89fe19491abc149984c17b8bab",
       "version_major": 2,
       "version_minor": 0
      },
      "text/plain": [
       "Batches:   0%|          | 0/1 [00:00<?, ?it/s]"
      ]
     },
     "metadata": {},
     "output_type": "display_data"
    },
    {
     "data": {
      "application/vnd.jupyter.widget-view+json": {
       "model_id": "0711dfbd276540f99ff0e64033e0f0e1",
       "version_major": 2,
       "version_minor": 0
      },
      "text/plain": [
       "Batches:   0%|          | 0/1 [00:00<?, ?it/s]"
      ]
     },
     "metadata": {},
     "output_type": "display_data"
    },
    {
     "data": {
      "application/vnd.jupyter.widget-view+json": {
       "model_id": "c29aad63253747afb06605bda93f8c9a",
       "version_major": 2,
       "version_minor": 0
      },
      "text/plain": [
       "Batches:   0%|          | 0/1 [00:00<?, ?it/s]"
      ]
     },
     "metadata": {},
     "output_type": "display_data"
    },
    {
     "data": {
      "application/vnd.jupyter.widget-view+json": {
       "model_id": "bdde0fd0f6f04efc9cd9b0d2d857f26a",
       "version_major": 2,
       "version_minor": 0
      },
      "text/plain": [
       "Batches:   0%|          | 0/1 [00:00<?, ?it/s]"
      ]
     },
     "metadata": {},
     "output_type": "display_data"
    }
   ],
   "source": [
    "# build index\n",
    "dv_lagos_index = VectorStoreIndex.from_documents(lagos_documents)\n",
    "dv_nairobi_index = VectorStoreIndex.from_documents(nairobi_documents)\n",
    "    \n",
    "\n",
    "# persist index\n",
    "dv_lagos_index.storage_context.persist(persist_dir=\"./storage/devfest_lagos\")\n",
    "dv_nairobi_index.storage_context.persist(persist_dir=\"./storage/devfest_nairobi\")\n",
    "   "
   ]
  },
  {
   "cell_type": "code",
   "execution_count": 40,
   "id": "ff9ffdb2-3b60-4f4c-a229-5829311dce1a",
   "metadata": {
    "tags": []
   },
   "outputs": [],
   "source": [
    "dv_lagos_engine = dv_lagos_index.as_query_engine(similarity_top_k=3)\n",
    "dv_nairobi_engine = dv_nairobi_index.as_query_engine(similarity_top_k=3)"
   ]
  },
  {
   "cell_type": "code",
   "execution_count": 41,
   "id": "a2158c3a-a08e-43d0-aea1-246d49e0601d",
   "metadata": {
    "tags": []
   },
   "outputs": [],
   "source": [
    "query_engine_tools = [\n",
    "    QueryEngineTool(\n",
    "        query_engine=dv_nairobi_engine,\n",
    "        metadata=ToolMetadata(\n",
    "            name=\"devfest_nairobi\",\n",
    "            description=(\n",
    "                \"Provides information about DevFest Nairobi 2024 schedule, \"\n",
    "                \"including sessions, speakers, tracks, and timings. \"\n",
    "                \"Use for queries specifically about the Nairobi event.\"\n",
    "            ),\n",
    "        ),\n",
    "    ),\n",
    "    QueryEngineTool(\n",
    "        query_engine=dv_lagos_engine,\n",
    "        metadata=ToolMetadata(\n",
    "            name=\"devfest_lagos\",\n",
    "            description=(\n",
    "                \"Provides information about DevFest Lagos 2024 schedule, \"\n",
    "                \"including sessions, speakers, tracks, and timings. \"\n",
    "                \"Use for queries specifically about the Lagos event.\"\n",
    "            ),\n",
    "        ),\n",
    "    ),\n",
    "]"
   ]
  },
  {
   "cell_type": "code",
   "execution_count": 42,
   "id": "565c1c3c-ecb9-4020-aa9c-917d4ffa51f7",
   "metadata": {
    "tags": []
   },
   "outputs": [],
   "source": [
    "agent = ReActAgent.from_tools(\n",
    "    query_engine_tools,\n",
    "    llm=llm,\n",
    "    verbose=True,\n",
    "    # context=context\n",
    ")"
   ]
  },
  {
   "cell_type": "code",
   "execution_count": 48,
   "id": "78c5c93a-e2e4-4257-bed1-966623c857bb",
   "metadata": {
    "tags": []
   },
   "outputs": [
    {
     "name": "stdout",
     "output_type": "stream",
     "text": [
      "> Running step 16b7e854-db2b-4c80-a030-c73f2c3c1604. Step input: Find me sessions about AI and machine learning in DevFest Nairobi\n",
      "\u001b[1;3;38;5;200mThought: (Implicit) I can answer without any more tools!\n",
      "Answer: ## AI and Machine Learning Sessions at DevFest Nairobi 2024:\n",
      "\n",
      "Based on the provided context, here are the sessions focusing on AI and Machine Learning at DevFest Nairobi 2024:\n",
      "\n",
      "**Day 1:**\n",
      "\n",
      "* **[AI] Exploring Autonomous AI: Aligning Ethics, Technology, Society and Law Through TensorFlow**\n",
      "    * Time: 1:25 PM\n",
      "    * Room: Rooftop Hall\n",
      "    * Speaker: Risper Joy - Data Scientist\n",
      "    * Description: This session explores the ethical considerations of autonomous AI and how TensorFlow can be used to align technology, society, and law.\n",
      "* **[ML] Building Responsible AI Through Explainability with Keras**\n",
      "    * Time: 3:15 PM\n",
      "    * Room: Main Hall\n",
      "    * Speaker: Brayan Kai - Data Scientist and Technical Writer\n",
      "    * Description: This session focuses on building responsible AI through explainability with Keras, enabling users to understand and interpret AI models.\n",
      "* **[AI] Building Responsible AI with Generative Models**\n",
      "    * Time: 2:30 PM\n",
      "    * Room: Rooftop Hall\n",
      "    * Speaker: Wesley Kambale - Machine learning engineer and Data scientist\n",
      "    * Description: This session explores building responsible AI with generative models, focusing on ethical considerations and best practices. \n",
      "\n",
      "These sessions offer a diverse range of topics related to AI and Machine Learning, covering ethical considerations, explainability, and generative models.\n",
      "\n",
      "\n",
      "\u001b[0m## AI and Machine Learning Sessions at DevFest Nairobi 2024:\n",
      "\n",
      "Based on the provided context, here are the sessions focusing on AI and Machine Learning at DevFest Nairobi 2024:\n",
      "\n",
      "**Day 1:**\n",
      "\n",
      "* **[AI] Exploring Autonomous AI: Aligning Ethics, Technology, Society and Law Through TensorFlow**\n",
      "    * Time: 1:25 PM\n",
      "    * Room: Rooftop Hall\n",
      "    * Speaker: Risper Joy - Data Scientist\n",
      "    * Description: This session explores the ethical considerations of autonomous AI and how TensorFlow can be used to align technology, society, and law.\n",
      "* **[ML] Building Responsible AI Through Explainability with Keras**\n",
      "    * Time: 3:15 PM\n",
      "    * Room: Main Hall\n",
      "    * Speaker: Brayan Kai - Data Scientist and Technical Writer\n",
      "    * Description: This session focuses on building responsible AI through explainability with Keras, enabling users to understand and interpret AI models.\n",
      "* **[AI] Building Responsible AI with Generative Models**\n",
      "    * Time: 2:30 PM\n",
      "    * Room: Rooftop Hall\n",
      "    * Speaker: Wesley Kambale - Machine learning engineer and Data scientist\n",
      "    * Description: This session explores building responsible AI with generative models, focusing on ethical considerations and best practices. \n",
      "\n",
      "These sessions offer a diverse range of topics related to AI and Machine Learning, covering ethical considerations, explainability, and generative models.\n",
      "\n",
      "\n"
     ]
    }
   ],
   "source": [
    "response = agent.chat(\"Find me sessions about AI and machine learning in DevFest Nairobi\")\n",
    "print(str(response))"
   ]
  },
  {
   "cell_type": "code",
   "execution_count": 44,
   "id": "b7cd1a6f-f13f-4e7c-bd60-1c84149a3d4b",
   "metadata": {
    "tags": []
   },
   "outputs": [
    {
     "name": "stdout",
     "output_type": "stream",
     "text": [
      "> Running step 01fe9fcc-0790-43a3-8da7-505ccea07f07. Step input: Compare and contrast DevFest Nairobi and DevFest Lagos Schedules, then give an analysis\n",
      "\u001b[1;3;38;5;200mThought: (Implicit) I can answer without any more tools!\n",
      "Answer: ## Comparing and Contrasting DevFest Nairobi and DevFest Lagos Schedules:\n",
      "\n",
      "**Similarities:**\n",
      "\n",
      "* Both events offer a wide range of sessions covering various technical topics, including AI, Machine Learning, Web Development, Cloud Computing, and more.\n",
      "* Both events feature renowned speakers from the tech industry, providing valuable insights and knowledge sharing.\n",
      "* Both events offer opportunities for networking and connecting with other developers and tech enthusiasts.\n",
      "* Both events are free to attend, making them accessible to a wider audience.\n",
      "\n",
      "**Differences:**\n",
      "\n",
      "* **Dates:** DevFest Nairobi takes place on November 11th, 2024, while DevFest Lagos takes place on November 18th, 2024.\n",
      "* **Tracks:** DevFest Nairobi has five tracks: AI & Machine Learning, Web Development, Cloud Computing, Mobile Development, and Design & UX. DevFest Lagos has six tracks: AI & Machine Learning, Web Development, Cloud Computing, Mobile Development, Design & UX, and Blockchain.\n",
      "* **Sessions:** DevFest Nairobi has 25 sessions, while DevFest Lagos has 30 sessions.\n",
      "* **Speakers:** DevFest Nairobi has 20 speakers, while DevFest Lagos has 25 speakers.\n",
      "* **Location:** DevFest Nairobi takes place at the Kenyatta International Convention Centre (KICC), while DevFest Lagos takes place at the Landmark Event Centre.\n",
      "\n",
      "**Analysis:**\n",
      "\n",
      "Both DevFest Nairobi and DevFest Lagos offer comprehensive schedules with a variety of sessions catering to different interests and skill levels. DevFest Lagos has a slightly larger number of sessions and speakers, while DevFest Nairobi has a more focused set of tracks. Ultimately, the best event for you depends on your specific interests and preferences. If you are interested in AI and Machine Learning, both events offer excellent sessions in this area. If you are looking for a wider range of topics, DevFest Lagos might be a better choice.\n",
      "\n",
      "**Additional Considerations:**\n",
      "\n",
      "* **Travel and accommodation:** Consider the travel and accommodation costs associated with attending each event.\n",
      "* **Visa requirements:** If you are traveling from outside of Kenya or Nigeria, you may need to obtain a visa.\n",
      "* **Personal preferences:** Think about your preferred learning style and environment when choosing an event.\n",
      "\n",
      "I hope this comparison and analysis helps you decide which DevFest event is right for you.\n",
      "\n",
      "\u001b[0m## Comparing and Contrasting DevFest Nairobi and DevFest Lagos Schedules:\n",
      "\n",
      "**Similarities:**\n",
      "\n",
      "* Both events offer a wide range of sessions covering various technical topics, including AI, Machine Learning, Web Development, Cloud Computing, and more.\n",
      "* Both events feature renowned speakers from the tech industry, providing valuable insights and knowledge sharing.\n",
      "* Both events offer opportunities for networking and connecting with other developers and tech enthusiasts.\n",
      "* Both events are free to attend, making them accessible to a wider audience.\n",
      "\n",
      "**Differences:**\n",
      "\n",
      "* **Dates:** DevFest Nairobi takes place on November 11th, 2024, while DevFest Lagos takes place on November 18th, 2024.\n",
      "* **Tracks:** DevFest Nairobi has five tracks: AI & Machine Learning, Web Development, Cloud Computing, Mobile Development, and Design & UX. DevFest Lagos has six tracks: AI & Machine Learning, Web Development, Cloud Computing, Mobile Development, Design & UX, and Blockchain.\n",
      "* **Sessions:** DevFest Nairobi has 25 sessions, while DevFest Lagos has 30 sessions.\n",
      "* **Speakers:** DevFest Nairobi has 20 speakers, while DevFest Lagos has 25 speakers.\n",
      "* **Location:** DevFest Nairobi takes place at the Kenyatta International Convention Centre (KICC), while DevFest Lagos takes place at the Landmark Event Centre.\n",
      "\n",
      "**Analysis:**\n",
      "\n",
      "Both DevFest Nairobi and DevFest Lagos offer comprehensive schedules with a variety of sessions catering to different interests and skill levels. DevFest Lagos has a slightly larger number of sessions and speakers, while DevFest Nairobi has a more focused set of tracks. Ultimately, the best event for you depends on your specific interests and preferences. If you are interested in AI and Machine Learning, both events offer excellent sessions in this area. If you are looking for a wider range of topics, DevFest Lagos might be a better choice.\n",
      "\n",
      "**Additional Considerations:**\n",
      "\n",
      "* **Travel and accommodation:** Consider the travel and accommodation costs associated with attending each event.\n",
      "* **Visa requirements:** If you are traveling from outside of Kenya or Nigeria, you may need to obtain a visa.\n",
      "* **Personal preferences:** Think about your preferred learning style and environment when choosing an event.\n",
      "\n",
      "I hope this comparison and analysis helps you decide which DevFest event is right for you.\n",
      "\n"
     ]
    }
   ],
   "source": [
    "response = agent.chat(\n",
    "    \"Compare and contrast DevFest Nairobi and DevFest Lagos Schedules, then\"\n",
    "    \" give an analysis\"\n",
    ")\n",
    "print(str(response))"
   ]
  },
  {
   "cell_type": "code",
   "execution_count": null,
   "id": "f4c562c7-e6e9-4fff-b2ff-768001d44d2c",
   "metadata": {},
   "outputs": [],
   "source": []
  }
 ],
 "metadata": {
  "environment": {
   "kernel": "conda-env-pytorch-pytorch",
   "name": "workbench-notebooks.m125",
   "type": "gcloud",
   "uri": "us-docker.pkg.dev/deeplearning-platform-release/gcr.io/workbench-notebooks:m125"
  },
  "kernelspec": {
   "display_name": "PyTorch 1-13 (Local)",
   "language": "python",
   "name": "conda-env-pytorch-pytorch"
  },
  "language_info": {
   "codemirror_mode": {
    "name": "ipython",
    "version": 3
   },
   "file_extension": ".py",
   "mimetype": "text/x-python",
   "name": "python",
   "nbconvert_exporter": "python",
   "pygments_lexer": "ipython3",
   "version": "3.10.15"
  }
 },
 "nbformat": 4,
 "nbformat_minor": 5
}
